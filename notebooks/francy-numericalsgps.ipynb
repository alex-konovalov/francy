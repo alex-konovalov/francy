{
 "cells": [
  {
   "cell_type": "markdown",
   "metadata": {},
   "source": [
    "# Numerical semigroups with `francy`\n",
    "\n",
    "## Load `francy` Package"
   ]
  },
  {
   "cell_type": "code",
   "execution_count": 24,
   "metadata": {},
   "outputs": [
    {
     "data": {
      "text/plain": [
       "true"
      ]
     },
     "execution_count": 23,
     "metadata": {
      "text/plain": ""
     },
     "output_type": "execute_result"
    },
    {
     "data": {
      "text/plain": [
       "true"
      ]
     },
     "execution_count": 24,
     "metadata": {
      "text/plain": ""
     },
     "output_type": "execute_result"
    }
   ],
   "source": [
    "LoadPackage(\"francy\");\n",
    "LoadPackage(\"num\");"
   ]
  },
  {
   "cell_type": "markdown",
   "metadata": {},
   "source": [
    "## Drawing Apéry sets"
   ]
  },
  {
   "cell_type": "markdown",
   "metadata": {},
   "source": [
    "This example draws the Apéry set of a numerical semigrup with respect to its multiplicity. By passing over a node with the mouse, the set of factorizations with respect to the minimal generating system of the numerical semigroup is displayed. Clicking a node produces a message with the same information."
   ]
  },
  {
   "cell_type": "code",
   "execution_count": 25,
   "metadata": {},
   "outputs": [
    {
     "data": {
      "text/plain": [
       "function( arg... ) ... end"
      ]
     },
     "execution_count": 25,
     "metadata": {
      "text/plain": ""
     },
     "output_type": "execute_result"
    }
   ],
   "source": [
    "apery:=function(arg)\n",
    "    local ap,c,hasse, s, n, r, graphHasse, aps, es, canvas, i, order, showfacts, message;\n",
    "    # rel is a list of lists with two elements representin a binary relation\n",
    "    # hasse(rel) removes from rel the pairs [x,y] such that there exists\n",
    "    # z with [x,z],[z,y] in rel\n",
    "    hasse:=function(rel)\n",
    "      local dom, out;\n",
    "      dom:=Flat(rel);\n",
    "      out:=Filtered(rel, p-> ForAny(dom, x->([p[1],x] in rel) and ([x,p[2]] in rel)));\n",
    "      return Difference(rel,out);\n",
    "    end;\n",
    "    \n",
    "\n",
    "    order:=function(x)\n",
    "        return Maximum(LengthsOfFactorizationsElementWRTNumericalSemigroup(x,s));\n",
    "    end;\n",
    "\n",
    "    showfacts:=function(x)\n",
    "        message := FrancyMessage(Concatenation(String(x), \" factors as \"), \n",
    "                    String(FactorizationsElementWRTNumericalSemigroup(x,s)));\n",
    "        SetFrancyId(message, Concatenation(\"message-for-\", String(x)));\n",
    "        Add(canvas, message);\n",
    "        return Draw(canvas);\n",
    "    end;\n",
    "    if Length(arg)=1 then\n",
    "        s:=arg[1];\n",
    "        n:=MultiplicityOfNumericalSemigroup(s);\n",
    "    fi;\n",
    "    if Length(arg)=2 then\n",
    "        s:=arg[1];\n",
    "        n:=arg[2];\n",
    "    fi;\n",
    "    if Length(arg)>2 then\n",
    "        Error(\"The number of arguments must be one or two\");\n",
    "    fi;\n",
    "    \n",
    "  \n",
    "    graphHasse := Graph(GraphType.UNDIRECTED);\n",
    "    #SetSimulation(graphHasse,true);\n",
    "    #SetDrag(graphHasse,true);\n",
    "    ap:=AperyList(s,n);\n",
    "    c:=Cartesian([1..n],[1..n]);\n",
    "    c:=Filtered(c, p-> ap[p[2]]<>ap[p[1]]);\n",
    "    c:=Filtered(c, p-> ap[p[1]]-ap[p[2]] in s);\n",
    "    c:=hasse(c);\n",
    "    aps:=[];\n",
    "    for i in [1..n] do\n",
    "        aps[i]:=Shape(ShapeType!.CIRCLE, String(ap[i]));\n",
    "        SetLayer(aps[i],-order(ap[i]));\n",
    "        Add(aps[i],Callback(showfacts,[ap[i]]));\n",
    "        Add(aps[i],FrancyMessage(Concatenation(\"{\",\n",
    "            JoinStringsWithSeparator(List(FactorizationsElementWRTNumericalSemigroup(ap[i],s), \n",
    "            f->Concatenation(\"(\",JoinStringsWithSeparator(f,\",\"),\")\")),\",\"),\")\")));\n",
    "        Add(graphHasse,aps[i]);\n",
    "    od;\n",
    "    for r in c do\n",
    "        Add(graphHasse,Link(aps[r[1]],aps[r[2]]));\n",
    "    od;\n",
    "    canvas:=Canvas(\"Apery\");\n",
    "    Add(canvas,graphHasse);\n",
    "    return Draw(canvas);    \n",
    "end;"
   ]
  },
  {
   "cell_type": "code",
   "execution_count": 26,
   "metadata": {
    "scrolled": false
   },
   "outputs": [
    {
     "data": {
      "application/vnd.francy+json": "{\"version\" : \"1.2.4\",\"mime\" : \"application\\/vnd.francy+json\",\"canvas\" : {\"width\" : 800,\"id\" : \"F281\",\"height\" : 600,\"title\" : \"Apery\",\"zoomToFit\" : true,\"texTypesetting\" : false,\"menus\" : {},\"graph\" : {\"type\" : \"undirected\",\"id\" : \"F237\",\"simulation\" : true,\"collapsed\" : true,\"nodes\" : {\"F238\" : {\"x\" : 0,\"y\" : 0,\"type\" : \"circle\",\"id\" : \"F238\",\"size\" : 10,\"title\" : \"0\",\"layer\" : 0,\"parent\" : \"\",\"color\" : \"\",\"menus\" : {},\"messages\" : {\"F240\" : {\"type\" : \"default\",\"id\" : \"F240\",\"text\" : \"{(0,0,0))\",\"title\" : \"\"}},\"callbacks\" : {\"F239\" : {\"func\" : \"unknown\",\"id\" : \"F239\",\"trigger\" : \"click\",\"knownArgs\" : [\"0\"],\"requiredArgs\" : {}}}},\"F241\" : {\"x\" : 0,\"y\" : 0,\"type\" : \"circle\",\"id\" : \"F241\",\"size\" : 10,\"title\" : \"31\",\"layer\" : -1,\"parent\" : \"\",\"color\" : \"\",\"menus\" : {},\"messages\" : {\"F243\" : {\"type\" : \"default\",\"id\" : \"F243\",\"text\" : \"{(0,0,1))\",\"title\" : \"\"}},\"callbacks\" : {\"F242\" : {\"func\" : \"unknown\",\"id\" : \"F242\",\"trigger\" : \"click\",\"knownArgs\" : [\"31\"],\"requiredArgs\" : {}}}},\"F244\" : {\"x\" : 0,\"y\" : 0,\"type\" : \"circle\",\"id\" : \"F244\",\"size\" : 10,\"title\" : \"62\",\"layer\" : -2,\"parent\" : \"\",\"color\" : \"\",\"menus\" : {},\"messages\" : {\"F246\" : {\"type\" : \"default\",\"id\" : \"F246\",\"text\" : \"{(0,0,2))\",\"title\" : \"\"}},\"callbacks\" : {\"F245\" : {\"func\" : \"unknown\",\"id\" : \"F245\",\"trigger\" : \"click\",\"knownArgs\" : [\"62\"],\"requiredArgs\" : {}}}},\"F247\" : {\"x\" : 0,\"y\" : 0,\"type\" : \"circle\",\"id\" : \"F247\",\"size\" : 10,\"title\" : \"93\",\"layer\" : -3,\"parent\" : \"\",\"color\" : \"\",\"menus\" : {},\"messages\" : {\"F249\" : {\"type\" : \"default\",\"id\" : \"F249\",\"text\" : \"{(0,0,3))\",\"title\" : \"\"}},\"callbacks\" : {\"F248\" : {\"func\" : \"unknown\",\"id\" : \"F248\",\"trigger\" : \"click\",\"knownArgs\" : [\"93\"],\"requiredArgs\" : {}}}},\"F250\" : {\"x\" : 0,\"y\" : 0,\"type\" : \"circle\",\"id\" : \"F250\",\"size\" : 10,\"title\" : \"54\",\"layer\" : -2,\"parent\" : \"\",\"color\" : \"\",\"menus\" : {},\"messages\" : {\"F252\" : {\"type\" : \"default\",\"id\" : \"F252\",\"text\" : \"{(0,2,0))\",\"title\" : \"\"}},\"callbacks\" : {\"F251\" : {\"func\" : \"unknown\",\"id\" : \"F251\",\"trigger\" : \"click\",\"knownArgs\" : [\"54\"],\"requiredArgs\" : {}}}},\"F253\" : {\"x\" : 0,\"y\" : 0,\"type\" : \"circle\",\"id\" : \"F253\",\"size\" : 10,\"title\" : \"85\",\"layer\" : -3,\"parent\" : \"\",\"color\" : \"\",\"menus\" : {},\"messages\" : {\"F255\" : {\"type\" : \"default\",\"id\" : \"F255\",\"text\" : \"{(0,2,1))\",\"title\" : \"\"}},\"callbacks\" : {\"F254\" : {\"func\" : \"unknown\",\"id\" : \"F254\",\"trigger\" : \"click\",\"knownArgs\" : [\"85\"],\"requiredArgs\" : {}}}},\"F256\" : {\"x\" : 0,\"y\" : 0,\"type\" : \"circle\",\"id\" : \"F256\",\"size\" : 10,\"title\" : \"116\",\"layer\" : -4,\"parent\" : \"\",\"color\" : \"\",\"menus\" : {},\"messages\" : {\"F258\" : {\"type\" : \"default\",\"id\" : \"F258\",\"text\" : \"{(0,2,2))\",\"title\" : \"\"}},\"callbacks\" : {\"F257\" : {\"func\" : \"unknown\",\"id\" : \"F257\",\"trigger\" : \"click\",\"knownArgs\" : [\"116\"],\"requiredArgs\" : {}}}},\"F259\" : {\"x\" : 0,\"y\" : 0,\"type\" : \"circle\",\"id\" : \"F259\",\"size\" : 10,\"title\" : \"27\",\"layer\" : -1,\"parent\" : \"\",\"color\" : \"\",\"menus\" : {},\"messages\" : {\"F261\" : {\"type\" : \"default\",\"id\" : \"F261\",\"text\" : \"{(0,1,0))\",\"title\" : \"\"}},\"callbacks\" : {\"F260\" : {\"func\" : \"unknown\",\"id\" : \"F260\",\"trigger\" : \"click\",\"knownArgs\" : [\"27\"],\"requiredArgs\" : {}}}},\"F262\" : {\"x\" : 0,\"y\" : 0,\"type\" : \"circle\",\"id\" : \"F262\",\"size\" : 10,\"title\" : \"58\",\"layer\" : -2,\"parent\" : \"\",\"color\" : \"\",\"menus\" : {},\"messages\" : {\"F264\" : {\"type\" : \"default\",\"id\" : \"F264\",\"text\" : \"{(0,1,1))\",\"title\" : \"\"}},\"callbacks\" : {\"F263\" : {\"func\" : \"unknown\",\"id\" : \"F263\",\"trigger\" : \"click\",\"knownArgs\" : [\"58\"],\"requiredArgs\" : {}}}},\"F265\" : {\"x\" : 0,\"y\" : 0,\"type\" : \"circle\",\"id\" : \"F265\",\"size\" : 10,\"title\" : \"89\",\"layer\" : -3,\"parent\" : \"\",\"color\" : \"\",\"menus\" : {},\"messages\" : {\"F267\" : {\"type\" : \"default\",\"id\" : \"F267\",\"text\" : \"{(0,1,2))\",\"title\" : \"\"}},\"callbacks\" : {\"F266\" : {\"func\" : \"unknown\",\"id\" : \"F266\",\"trigger\" : \"click\",\"knownArgs\" : [\"89\"],\"requiredArgs\" : {}}}}},\"links\" : {\"F268\" : {\"id\" : \"F268\",\"source\" : \"F241\",\"length\" : 0,\"weight\" : 0,\"target\" : \"F238\",\"color\" : \"\",\"invisible\" : false},\"F269\" : {\"id\" : \"F269\",\"source\" : \"F244\",\"length\" : 0,\"weight\" : 0,\"target\" : \"F241\",\"color\" : \"\",\"invisible\" : false},\"F270\" : {\"id\" : \"F270\",\"source\" : \"F247\",\"length\" : 0,\"weight\" : 0,\"target\" : \"F244\",\"color\" : \"\",\"invisible\" : false},\"F271\" : {\"id\" : \"F271\",\"source\" : \"F250\",\"length\" : 0,\"weight\" : 0,\"target\" : \"F259\",\"color\" : \"\",\"invisible\" : false},\"F272\" : {\"id\" : \"F272\",\"source\" : \"F253\",\"length\" : 0,\"weight\" : 0,\"target\" : \"F250\",\"color\" : \"\",\"invisible\" : false},\"F273\" : {\"id\" : \"F273\",\"source\" : \"F253\",\"length\" : 0,\"weight\" : 0,\"target\" : \"F262\",\"color\" : \"\",\"invisible\" : false},\"F274\" : {\"id\" : \"F274\",\"source\" : \"F256\",\"length\" : 0,\"weight\" : 0,\"target\" : \"F253\",\"color\" : \"\",\"invisible\" : false},\"F275\" : {\"id\" : \"F275\",\"source\" : \"F256\",\"length\" : 0,\"weight\" : 0,\"target\" : \"F265\",\"color\" : \"\",\"invisible\" : false},\"F276\" : {\"id\" : \"F276\",\"source\" : \"F259\",\"length\" : 0,\"weight\" : 0,\"target\" : \"F238\",\"color\" : \"\",\"invisible\" : false},\"F277\" : {\"id\" : \"F277\",\"source\" : \"F262\",\"length\" : 0,\"weight\" : 0,\"target\" : \"F241\",\"color\" : \"\",\"invisible\" : false},\"F278\" : {\"id\" : \"F278\",\"source\" : \"F262\",\"length\" : 0,\"weight\" : 0,\"target\" : \"F259\",\"color\" : \"\",\"invisible\" : false},\"F279\" : {\"id\" : \"F279\",\"source\" : \"F265\",\"length\" : 0,\"weight\" : 0,\"target\" : \"F244\",\"color\" : \"\",\"invisible\" : false},\"F280\" : {\"id\" : \"F280\",\"source\" : \"F265\",\"length\" : 0,\"weight\" : 0,\"target\" : \"F262\",\"color\" : \"\",\"invisible\" : false}}},\"messages\" : {}}}"
     },
     "execution_count": 26,
     "metadata": {
      "application/vnd.francy+json": {}
     },
     "output_type": "execute_result"
    }
   ],
   "source": [
    "apery(NumericalSemigroup(10,51,27,31));"
   ]
  },
  {
   "cell_type": "markdown",
   "metadata": {},
   "source": [
    "## Drawing sons of numerical semigroups"
   ]
  },
  {
   "cell_type": "markdown",
   "metadata": {},
   "source": [
    "This example shows how to draw the sons of a numerical semigroup in the tree of numerical semigroups. If we click on a node, then the sets of sons of that node are added to the canvas, and if the node is a leaf, a warning message is displayed.\n",
    "\n",
    "Passing the mouse over a node shows the set of minimal generators of the node."
   ]
  },
  {
   "cell_type": "code",
   "execution_count": 27,
   "metadata": {},
   "outputs": [
    {
     "data": {
      "text/plain": [
       "function( s ) ... end"
      ]
     },
     "execution_count": 27,
     "metadata": {
      "text/plain": ""
     },
     "output_type": "execute_result"
    }
   ],
   "source": [
    "sons:=function(s)\n",
    "    local gens, frb, desc, graphHasse, d, shpr, shp, canvas, sonsf, i, gn, lbl;\n",
    "    \n",
    "    \n",
    "    sonsf:=function(s,n)\n",
    "        local gens, frb, desc, d, shp, i, lbl, gn;\n",
    "\n",
    "        frb:=FrobeniusNumber(s);\n",
    "        gens:=Filtered(MinimalGenerators(s), x-> x>frb);\n",
    "        desc:=List(gens, g->RemoveMinimalGeneratorFromNumericalSemigroup(g,s));\n",
    "        gn:=Genus(s);\n",
    "        i:=0;\n",
    "        for d in desc do\n",
    "            i:=i+1;\n",
    "        lbl:=Concatenation(\"$\\\\langle\",JoinStringsWithSeparator(MinimalGenerators(d),\",\"),\"\\\\rangle$\");\n",
    "            shp:=Shape(ShapeType!.CIRCLE, lbl);\n",
    "            SetFrancyId(shp,lbl);\n",
    "            SetLayer(shp,Genus(d));\n",
    "            SetSize(shp,1);\n",
    "            Add(shp,Callback(sonsf,[d,shp]));\n",
    "            Add(shp,FrancyMessage(String(MinimalGenerators(d))));\n",
    "            Add(graphHasse,shp);\n",
    "            Add(graphHasse,Link(n,shp));\n",
    "        od;\n",
    "        if desc<>[] then \n",
    "            return Draw(canvas);\n",
    "        fi;\n",
    "        Add(canvas, FrancyMessage(FrancyMessageType.WARNING, \"This semigroup is a leaf\"));\n",
    "        return Draw(canvas);\n",
    "    end;\n",
    "    \n",
    "    frb:=FrobeniusNumber(s);\n",
    "    gens:=Filtered(MinimalGenerators(s), x-> x>frb);\n",
    "    desc:=List(gens, g->RemoveMinimalGeneratorFromNumericalSemigroup(g,s));\n",
    "    gn:=Genus(s);\n",
    "\n",
    "    graphHasse := Graph(GraphType.UNDIRECTED);\n",
    "    lbl:=Concatenation(\"$\\\\langle\",JoinStringsWithSeparator(MinimalGenerators(s),\",\"),\"\\\\rangle$\");\n",
    "    shpr:=Shape(ShapeType!.CIRCLE, lbl);\n",
    "    SetSize(shpr,1);\n",
    "    SetFrancyId(shpr,lbl);\n",
    "    Add(shpr,FrancyMessage(String(MinimalGenerators(s))));\n",
    "    SetLayer(shpr,Genus(s));\n",
    "    Add(graphHasse,shpr);\n",
    "    i:=0;\n",
    "    for d in desc do\n",
    "        i:=i+1;\n",
    "        lbl:=Concatenation(\"$\\\\langle\",JoinStringsWithSeparator(MinimalGenerators(d),\",\"),\"\\\\rangle$\");\n",
    "        shp:=Shape(ShapeType!.CIRCLE, lbl);\n",
    "        SetFrancyId(shp,lbl);\n",
    "        SetLayer(shp,Genus(d));\n",
    "        SetSize(shp,1);\n",
    "        Add(shp,Callback(sonsf,[d,shp]));\n",
    "        Add(shp,FrancyMessage(String(MinimalGenerators(d))));\n",
    "        Add(graphHasse,shp);\n",
    "        Add(graphHasse,Link(shpr,shp));\n",
    "    od;\n",
    "    canvas:=Canvas(\"Sons of a numerical semigroup\");\n",
    "    SetTexTypesetting(canvas, true);\n",
    "    Add(canvas,graphHasse);\n",
    "    return Draw(canvas);    \n",
    "end;"
   ]
  },
  {
   "cell_type": "code",
   "execution_count": 55,
   "metadata": {
    "scrolled": false
   },
   "outputs": [
    {
     "data": {
      "application/vnd.francy+json": "{\"version\" : \"1.2.4\",\"mime\" : \"application\\/vnd.francy+json\",\"canvas\" : {\"width\" : 800,\"id\" : \"F557\",\"height\" : 600,\"title\" : \"Sons of a numerical semigroup\",\"zoomToFit\" : true,\"texTypesetting\" : true,\"menus\" : {},\"graph\" : {\"type\" : \"undirected\",\"id\" : \"F546\",\"simulation\" : true,\"collapsed\" : true,\"nodes\" : {\"$\\\\langle3,5,7\\\\rangle$\" : {\"x\" : 0,\"y\" : 0,\"type\" : \"circle\",\"id\" : \"$\\\\langle3,5,7\\\\rangle$\",\"size\" : 1,\"title\" : \"$\\\\langle3,5,7\\\\rangle$\",\"layer\" : 3,\"parent\" : \"\",\"color\" : \"\",\"menus\" : {},\"messages\" : {\"F548\" : {\"type\" : \"default\",\"id\" : \"F548\",\"text\" : \"[ 3, 5, 7 ]\",\"title\" : \"\"}},\"callbacks\" : {}},\"$\\\\langle3,7,8\\\\rangle$\" : {\"x\" : 0,\"y\" : 0,\"type\" : \"circle\",\"id\" : \"$\\\\langle3,7,8\\\\rangle$\",\"size\" : 1,\"title\" : \"$\\\\langle3,7,8\\\\rangle$\",\"layer\" : 4,\"parent\" : \"\",\"color\" : \"\",\"menus\" : {},\"messages\" : {\"F551\" : {\"type\" : \"default\",\"id\" : \"F551\",\"text\" : \"[ 3, 7, 8 ]\",\"title\" : \"\"}},\"callbacks\" : {\"F550\" : {\"func\" : \"unknown\",\"id\" : \"F550\",\"trigger\" : \"click\",\"knownArgs\" : [\"Numerical semigroup with 3 generators\",\"<object>\"],\"requiredArgs\" : {}}}},\"$\\\\langle3,5\\\\rangle$\" : {\"x\" : 0,\"y\" : 0,\"type\" : \"circle\",\"id\" : \"$\\\\langle3,5\\\\rangle$\",\"size\" : 1,\"title\" : \"$\\\\langle3,5\\\\rangle$\",\"layer\" : 4,\"parent\" : \"\",\"color\" : \"\",\"menus\" : {},\"messages\" : {\"F555\" : {\"type\" : \"default\",\"id\" : \"F555\",\"text\" : \"[ 3, 5 ]\",\"title\" : \"\"}},\"callbacks\" : {\"F554\" : {\"func\" : \"unknown\",\"id\" : \"F554\",\"trigger\" : \"click\",\"knownArgs\" : [\"Numerical semigroup with 2 generators\",\"<object>\"],\"requiredArgs\" : {}}}}},\"links\" : {\"F552\" : {\"id\" : \"F552\",\"source\" : \"$\\\\langle3,5,7\\\\rangle$\",\"length\" : 0,\"weight\" : 0,\"target\" : \"$\\\\langle3,7,8\\\\rangle$\",\"color\" : \"\",\"invisible\" : false},\"F556\" : {\"id\" : \"F556\",\"source\" : \"$\\\\langle3,5,7\\\\rangle$\",\"length\" : 0,\"weight\" : 0,\"target\" : \"$\\\\langle3,5\\\\rangle$\",\"color\" : \"\",\"invisible\" : false}}},\"messages\" : {}}}"
     },
     "execution_count": 55,
     "metadata": {
      "application/vnd.francy+json": {}
     },
     "output_type": "execute_result"
    }
   ],
   "source": [
    "sons(NumericalSemigroup(3,5,7));"
   ]
  },
  {
   "cell_type": "markdown",
   "metadata": {},
   "source": [
    "# Tree of numerical semigroups\n",
    "\n",
    "Now we draw the sons of a numerical semigroup `s` in the tree of numerical semigroups up to level `l`."
   ]
  },
  {
   "cell_type": "code",
   "execution_count": 29,
   "metadata": {},
   "outputs": [
    {
     "data": {
      "text/plain": [
       "function( s, l, generators ) ... end"
      ]
     },
     "execution_count": 29,
     "metadata": {
      "text/plain": ""
     },
     "output_type": "execute_result"
    }
   ],
   "source": [
    "sonstree:=function(s,l,generators)\n",
    "    local gens, frb, desc, graphTreee, d, shpr, shp, canvas, sonsf, lbl;\n",
    "\n",
    "\n",
    "    sonsf:=function(s,n,lv)\n",
    "        local gens, frb, desc, d, shp;\n",
    "        if lv=0 then\n",
    "            return ;\n",
    "        fi;\n",
    "        frb:=FrobeniusNumber(s);\n",
    "        gens:=Filtered(generators(s), x-> x>frb);\n",
    "        desc:=List(gens, g->RemoveMinimalGeneratorFromNumericalSemigroup(g,s));\n",
    "        for d in desc do\n",
    "            lbl:=Concatenation(\"$\\\\{\",JoinStringsWithSeparator(generators(d),\",\"),\"\\\\}$\");\n",
    "            shp:=Shape(ShapeType!.CIRCLE, lbl);\n",
    "            SetSize(shp,5);\n",
    "            Add(graphTreee,shp);\n",
    "            SetParentShape(shp,n);\n",
    "            sonsf(d,shp,lv-1);\n",
    "        od;\n",
    "        if desc<>[] then\n",
    "            return ;\n",
    "        fi;\n",
    "        #Add(canvas, FrancyMessage(FrancyMessageType.WARNING, \"This semigroup is a leaf\"));\n",
    "        return ;\n",
    "    end;\n",
    "\n",
    "    frb:=FrobeniusNumber(s);\n",
    "    gens:=Filtered(generators(s), x-> x>frb);\n",
    "    desc:=List(gens, g->RemoveMinimalGeneratorFromNumericalSemigroup(g,s));\n",
    "\n",
    "    graphTreee := Graph(GraphType.TREE);\n",
    "    SetCollapsed(graphTreee,false);\n",
    "    shpr:=Shape(ShapeType!.CIRCLE, \"S\");\n",
    "    SetSize(shpr,5);\n",
    "    Add(shpr,FrancyMessage(String(generators(s))));\n",
    "    Add(graphTreee,shpr);\n",
    "    canvas:=Canvas(\"Sons of a numerical semigroup\");\n",
    "    SetTexTypesetting(canvas, true);\n",
    "    Add(canvas,graphTreee);\n",
    "    sonsf(s,shpr,l);\n",
    "    return Draw(canvas);\n",
    "end;"
   ]
  },
  {
   "cell_type": "markdown",
   "metadata": {},
   "source": [
    "Darker dots correspond either to leaves or to elements with highest genus. Blue nodes can be collapsed by clicking.  "
   ]
  },
  {
   "cell_type": "code",
   "execution_count": 30,
   "metadata": {},
   "outputs": [
    {
     "data": {
      "application/vnd.francy+json": "{\"version\" : \"1.2.4\",\"mime\" : \"application\\/vnd.francy+json\",\"canvas\" : {\"width\" : 800,\"id\" : \"F297\",\"height\" : 600,\"title\" : \"Sons of a numerical semigroup\",\"zoomToFit\" : true,\"texTypesetting\" : true,\"menus\" : {},\"graph\" : {\"type\" : \"tree\",\"id\" : \"F294\",\"simulation\" : true,\"collapsed\" : false,\"nodes\" : {\"F295\" : {\"x\" : 0,\"y\" : 0,\"type\" : \"circle\",\"id\" : \"F295\",\"size\" : 5,\"title\" : \"S\",\"layer\" : 0,\"parent\" : \"\",\"color\" : \"\",\"menus\" : {},\"messages\" : {\"F296\" : {\"type\" : \"default\",\"id\" : \"F296\",\"text\" : \"[ 1 ]\",\"title\" : \"\"}},\"callbacks\" : {}},\"F298\" : {\"x\" : 0,\"y\" : 0,\"type\" : \"circle\",\"id\" : \"F298\",\"size\" : 5,\"title\" : \"$\\\\{2,3\\\\}$\",\"layer\" : 0,\"parent\" : \"F295\",\"color\" : \"\",\"menus\" : {},\"messages\" : {},\"callbacks\" : {}},\"F299\" : {\"x\" : 0,\"y\" : 0,\"type\" : \"circle\",\"id\" : \"F299\",\"size\" : 5,\"title\" : \"$\\\\{3,4,5\\\\}$\",\"layer\" : 0,\"parent\" : \"F298\",\"color\" : \"\",\"menus\" : {},\"messages\" : {},\"callbacks\" : {}},\"F300\" : {\"x\" : 0,\"y\" : 0,\"type\" : \"circle\",\"id\" : \"F300\",\"size\" : 5,\"title\" : \"$\\\\{4,5,6,7\\\\}$\",\"layer\" : 0,\"parent\" : \"F299\",\"color\" : \"\",\"menus\" : {},\"messages\" : {},\"callbacks\" : {}},\"F301\" : {\"x\" : 0,\"y\" : 0,\"type\" : \"circle\",\"id\" : \"F301\",\"size\" : 5,\"title\" : \"$\\\\{5,6,7,8,9\\\\}$\",\"layer\" : 0,\"parent\" : \"F300\",\"color\" : \"\",\"menus\" : {},\"messages\" : {},\"callbacks\" : {}},\"F302\" : {\"x\" : 0,\"y\" : 0,\"type\" : \"circle\",\"id\" : \"F302\",\"size\" : 5,\"title\" : \"$\\\\{4,6,7,9\\\\}$\",\"layer\" : 0,\"parent\" : \"F300\",\"color\" : \"\",\"menus\" : {},\"messages\" : {},\"callbacks\" : {}},\"F303\" : {\"x\" : 0,\"y\" : 0,\"type\" : \"circle\",\"id\" : \"F303\",\"size\" : 5,\"title\" : \"$\\\\{4,5,7\\\\}$\",\"layer\" : 0,\"parent\" : \"F300\",\"color\" : \"\",\"menus\" : {},\"messages\" : {},\"callbacks\" : {}},\"F304\" : {\"x\" : 0,\"y\" : 0,\"type\" : \"circle\",\"id\" : \"F304\",\"size\" : 5,\"title\" : \"$\\\\{4,5,6\\\\}$\",\"layer\" : 0,\"parent\" : \"F300\",\"color\" : \"\",\"menus\" : {},\"messages\" : {},\"callbacks\" : {}},\"F305\" : {\"x\" : 0,\"y\" : 0,\"type\" : \"circle\",\"id\" : \"F305\",\"size\" : 5,\"title\" : \"$\\\\{3,5,7\\\\}$\",\"layer\" : 0,\"parent\" : \"F299\",\"color\" : \"\",\"menus\" : {},\"messages\" : {},\"callbacks\" : {}},\"F306\" : {\"x\" : 0,\"y\" : 0,\"type\" : \"circle\",\"id\" : \"F306\",\"size\" : 5,\"title\" : \"$\\\\{3,7,8\\\\}$\",\"layer\" : 0,\"parent\" : \"F305\",\"color\" : \"\",\"menus\" : {},\"messages\" : {},\"callbacks\" : {}},\"F307\" : {\"x\" : 0,\"y\" : 0,\"type\" : \"circle\",\"id\" : \"F307\",\"size\" : 5,\"title\" : \"$\\\\{3,5\\\\}$\",\"layer\" : 0,\"parent\" : \"F305\",\"color\" : \"\",\"menus\" : {},\"messages\" : {},\"callbacks\" : {}},\"F308\" : {\"x\" : 0,\"y\" : 0,\"type\" : \"circle\",\"id\" : \"F308\",\"size\" : 5,\"title\" : \"$\\\\{3,4\\\\}$\",\"layer\" : 0,\"parent\" : \"F299\",\"color\" : \"\",\"menus\" : {},\"messages\" : {},\"callbacks\" : {}},\"F309\" : {\"x\" : 0,\"y\" : 0,\"type\" : \"circle\",\"id\" : \"F309\",\"size\" : 5,\"title\" : \"$\\\\{2,5\\\\}$\",\"layer\" : 0,\"parent\" : \"F298\",\"color\" : \"\",\"menus\" : {},\"messages\" : {},\"callbacks\" : {}},\"F310\" : {\"x\" : 0,\"y\" : 0,\"type\" : \"circle\",\"id\" : \"F310\",\"size\" : 5,\"title\" : \"$\\\\{2,7\\\\}$\",\"layer\" : 0,\"parent\" : \"F309\",\"color\" : \"\",\"menus\" : {},\"messages\" : {},\"callbacks\" : {}},\"F311\" : {\"x\" : 0,\"y\" : 0,\"type\" : \"circle\",\"id\" : \"F311\",\"size\" : 5,\"title\" : \"$\\\\{2,9\\\\}$\",\"layer\" : 0,\"parent\" : \"F310\",\"color\" : \"\",\"menus\" : {},\"messages\" : {},\"callbacks\" : {}}},\"links\" : {}},\"messages\" : {}}}"
     },
     "execution_count": 30,
     "metadata": {
      "application/vnd.francy+json": {}
     },
     "output_type": "execute_result"
    }
   ],
   "source": [
    "sonstree(NumericalSemigroup(1),4,MinimalGenerators);"
   ]
  },
  {
   "cell_type": "markdown",
   "metadata": {},
   "source": [
    "And we can get also the tree of Arf numerical semigroups"
   ]
  },
  {
   "cell_type": "code",
   "execution_count": 31,
   "metadata": {},
   "outputs": [
    {
     "data": {
      "application/vnd.francy+json": "{\"version\" : \"1.2.4\",\"mime\" : \"application\\/vnd.francy+json\",\"canvas\" : {\"width\" : 800,\"id\" : \"F315\",\"height\" : 600,\"title\" : \"Sons of a numerical semigroup\",\"zoomToFit\" : true,\"texTypesetting\" : true,\"menus\" : {},\"graph\" : {\"type\" : \"tree\",\"id\" : \"F312\",\"simulation\" : true,\"collapsed\" : false,\"nodes\" : {\"F313\" : {\"x\" : 0,\"y\" : 0,\"type\" : \"circle\",\"id\" : \"F313\",\"size\" : 5,\"title\" : \"S\",\"layer\" : 0,\"parent\" : \"\",\"color\" : \"\",\"menus\" : {},\"messages\" : {\"F314\" : {\"type\" : \"default\",\"id\" : \"F314\",\"text\" : \"[ 1 ]\",\"title\" : \"\"}},\"callbacks\" : {}},\"F316\" : {\"x\" : 0,\"y\" : 0,\"type\" : \"circle\",\"id\" : \"F316\",\"size\" : 5,\"title\" : \"$\\\\{2,3\\\\}$\",\"layer\" : 0,\"parent\" : \"F313\",\"color\" : \"\",\"menus\" : {},\"messages\" : {},\"callbacks\" : {}},\"F317\" : {\"x\" : 0,\"y\" : 0,\"type\" : \"circle\",\"id\" : \"F317\",\"size\" : 5,\"title\" : \"$\\\\{3,4\\\\}$\",\"layer\" : 0,\"parent\" : \"F316\",\"color\" : \"\",\"menus\" : {},\"messages\" : {},\"callbacks\" : {}},\"F318\" : {\"x\" : 0,\"y\" : 0,\"type\" : \"circle\",\"id\" : \"F318\",\"size\" : 5,\"title\" : \"$\\\\{4,5\\\\}$\",\"layer\" : 0,\"parent\" : \"F317\",\"color\" : \"\",\"menus\" : {},\"messages\" : {},\"callbacks\" : {}},\"F319\" : {\"x\" : 0,\"y\" : 0,\"type\" : \"circle\",\"id\" : \"F319\",\"size\" : 5,\"title\" : \"$\\\\{5,6\\\\}$\",\"layer\" : 0,\"parent\" : \"F318\",\"color\" : \"\",\"menus\" : {},\"messages\" : {},\"callbacks\" : {}},\"F320\" : {\"x\" : 0,\"y\" : 0,\"type\" : \"circle\",\"id\" : \"F320\",\"size\" : 5,\"title\" : \"$\\\\{6,7\\\\}$\",\"layer\" : 0,\"parent\" : \"F319\",\"color\" : \"\",\"menus\" : {},\"messages\" : {},\"callbacks\" : {}},\"F321\" : {\"x\" : 0,\"y\" : 0,\"type\" : \"circle\",\"id\" : \"F321\",\"size\" : 5,\"title\" : \"$\\\\{7,8\\\\}$\",\"layer\" : 0,\"parent\" : \"F320\",\"color\" : \"\",\"menus\" : {},\"messages\" : {},\"callbacks\" : {}},\"F322\" : {\"x\" : 0,\"y\" : 0,\"type\" : \"circle\",\"id\" : \"F322\",\"size\" : 5,\"title\" : \"$\\\\{8,9\\\\}$\",\"layer\" : 0,\"parent\" : \"F321\",\"color\" : \"\",\"menus\" : {},\"messages\" : {},\"callbacks\" : {}},\"F323\" : {\"x\" : 0,\"y\" : 0,\"type\" : \"circle\",\"id\" : \"F323\",\"size\" : 5,\"title\" : \"$\\\\{9,10\\\\}$\",\"layer\" : 0,\"parent\" : \"F322\",\"color\" : \"\",\"menus\" : {},\"messages\" : {},\"callbacks\" : {}},\"F324\" : {\"x\" : 0,\"y\" : 0,\"type\" : \"circle\",\"id\" : \"F324\",\"size\" : 5,\"title\" : \"$\\\\{8,10,11\\\\}$\",\"layer\" : 0,\"parent\" : \"F322\",\"color\" : \"\",\"menus\" : {},\"messages\" : {},\"callbacks\" : {}},\"F325\" : {\"x\" : 0,\"y\" : 0,\"type\" : \"circle\",\"id\" : \"F325\",\"size\" : 5,\"title\" : \"$\\\\{7,9,10\\\\}$\",\"layer\" : 0,\"parent\" : \"F321\",\"color\" : \"\",\"menus\" : {},\"messages\" : {},\"callbacks\" : {}},\"F326\" : {\"x\" : 0,\"y\" : 0,\"type\" : \"circle\",\"id\" : \"F326\",\"size\" : 5,\"title\" : \"$\\\\{7,10,11\\\\}$\",\"layer\" : 0,\"parent\" : \"F325\",\"color\" : \"\",\"menus\" : {},\"messages\" : {},\"callbacks\" : {}},\"F327\" : {\"x\" : 0,\"y\" : 0,\"type\" : \"circle\",\"id\" : \"F327\",\"size\" : 5,\"title\" : \"$\\\\{7,9,12\\\\}$\",\"layer\" : 0,\"parent\" : \"F325\",\"color\" : \"\",\"menus\" : {},\"messages\" : {},\"callbacks\" : {}},\"F328\" : {\"x\" : 0,\"y\" : 0,\"type\" : \"circle\",\"id\" : \"F328\",\"size\" : 5,\"title\" : \"$\\\\{6,8,9\\\\}$\",\"layer\" : 0,\"parent\" : \"F320\",\"color\" : \"\",\"menus\" : {},\"messages\" : {},\"callbacks\" : {}},\"F329\" : {\"x\" : 0,\"y\" : 0,\"type\" : \"circle\",\"id\" : \"F329\",\"size\" : 5,\"title\" : \"$\\\\{6,9,10\\\\}$\",\"layer\" : 0,\"parent\" : \"F328\",\"color\" : \"\",\"menus\" : {},\"messages\" : {},\"callbacks\" : {}},\"F330\" : {\"x\" : 0,\"y\" : 0,\"type\" : \"circle\",\"id\" : \"F330\",\"size\" : 5,\"title\" : \"$\\\\{6,10,11\\\\}$\",\"layer\" : 0,\"parent\" : \"F329\",\"color\" : \"\",\"menus\" : {},\"messages\" : {},\"callbacks\" : {}},\"F331\" : {\"x\" : 0,\"y\" : 0,\"type\" : \"circle\",\"id\" : \"F331\",\"size\" : 5,\"title\" : \"$\\\\{6,9,11\\\\}$\",\"layer\" : 0,\"parent\" : \"F329\",\"color\" : \"\",\"menus\" : {},\"messages\" : {},\"callbacks\" : {}},\"F332\" : {\"x\" : 0,\"y\" : 0,\"type\" : \"circle\",\"id\" : \"F332\",\"size\" : 5,\"title\" : \"$\\\\{6,8,11\\\\}$\",\"layer\" : 0,\"parent\" : \"F328\",\"color\" : \"\",\"menus\" : {},\"messages\" : {},\"callbacks\" : {}},\"F333\" : {\"x\" : 0,\"y\" : 0,\"type\" : \"circle\",\"id\" : \"F333\",\"size\" : 5,\"title\" : \"$\\\\{6,8,13\\\\}$\",\"layer\" : 0,\"parent\" : \"F332\",\"color\" : \"\",\"menus\" : {},\"messages\" : {},\"callbacks\" : {}},\"F334\" : {\"x\" : 0,\"y\" : 0,\"type\" : \"circle\",\"id\" : \"F334\",\"size\" : 5,\"title\" : \"$\\\\{5,7,8\\\\}$\",\"layer\" : 0,\"parent\" : \"F319\",\"color\" : \"\",\"menus\" : {},\"messages\" : {},\"callbacks\" : {}},\"F335\" : {\"x\" : 0,\"y\" : 0,\"type\" : \"circle\",\"id\" : \"F335\",\"size\" : 5,\"title\" : \"$\\\\{5,8,9\\\\}$\",\"layer\" : 0,\"parent\" : \"F334\",\"color\" : \"\",\"menus\" : {},\"messages\" : {},\"callbacks\" : {}},\"F336\" : {\"x\" : 0,\"y\" : 0,\"type\" : \"circle\",\"id\" : \"F336\",\"size\" : 5,\"title\" : \"$\\\\{5,9\\\\}$\",\"layer\" : 0,\"parent\" : \"F335\",\"color\" : \"\",\"menus\" : {},\"messages\" : {},\"callbacks\" : {}},\"F337\" : {\"x\" : 0,\"y\" : 0,\"type\" : \"circle\",\"id\" : \"F337\",\"size\" : 5,\"title\" : \"$\\\\{5,11\\\\}$\",\"layer\" : 0,\"parent\" : \"F336\",\"color\" : \"\",\"menus\" : {},\"messages\" : {},\"callbacks\" : {}},\"F338\" : {\"x\" : 0,\"y\" : 0,\"type\" : \"circle\",\"id\" : \"F338\",\"size\" : 5,\"title\" : \"$\\\\{5,8\\\\}$\",\"layer\" : 0,\"parent\" : \"F335\",\"color\" : \"\",\"menus\" : {},\"messages\" : {},\"callbacks\" : {}},\"F339\" : {\"x\" : 0,\"y\" : 0,\"type\" : \"circle\",\"id\" : \"F339\",\"size\" : 5,\"title\" : \"$\\\\{5,7\\\\}$\",\"layer\" : 0,\"parent\" : \"F334\",\"color\" : \"\",\"menus\" : {},\"messages\" : {},\"callbacks\" : {}},\"F340\" : {\"x\" : 0,\"y\" : 0,\"type\" : \"circle\",\"id\" : \"F340\",\"size\" : 5,\"title\" : \"$\\\\{4,6,7\\\\}$\",\"layer\" : 0,\"parent\" : \"F318\",\"color\" : \"\",\"menus\" : {},\"messages\" : {},\"callbacks\" : {}},\"F341\" : {\"x\" : 0,\"y\" : 0,\"type\" : \"circle\",\"id\" : \"F341\",\"size\" : 5,\"title\" : \"$\\\\{4,7\\\\}$\",\"layer\" : 0,\"parent\" : \"F340\",\"color\" : \"\",\"menus\" : {},\"messages\" : {},\"callbacks\" : {}},\"F342\" : {\"x\" : 0,\"y\" : 0,\"type\" : \"circle\",\"id\" : \"F342\",\"size\" : 5,\"title\" : \"$\\\\{4,9\\\\}$\",\"layer\" : 0,\"parent\" : \"F341\",\"color\" : \"\",\"menus\" : {},\"messages\" : {},\"callbacks\" : {}},\"F343\" : {\"x\" : 0,\"y\" : 0,\"type\" : \"circle\",\"id\" : \"F343\",\"size\" : 5,\"title\" : \"$\\\\{4,10,11\\\\}$\",\"layer\" : 0,\"parent\" : \"F342\",\"color\" : \"\",\"menus\" : {},\"messages\" : {},\"callbacks\" : {}},\"F344\" : {\"x\" : 0,\"y\" : 0,\"type\" : \"circle\",\"id\" : \"F344\",\"size\" : 5,\"title\" : \"$\\\\{4,11\\\\}$\",\"layer\" : 0,\"parent\" : \"F343\",\"color\" : \"\",\"menus\" : {},\"messages\" : {},\"callbacks\" : {}},\"F345\" : {\"x\" : 0,\"y\" : 0,\"type\" : \"circle\",\"id\" : \"F345\",\"size\" : 5,\"title\" : \"$\\\\{4,10,13\\\\}$\",\"layer\" : 0,\"parent\" : \"F343\",\"color\" : \"\",\"menus\" : {},\"messages\" : {},\"callbacks\" : {}},\"F346\" : {\"x\" : 0,\"y\" : 0,\"type\" : \"circle\",\"id\" : \"F346\",\"size\" : 5,\"title\" : \"$\\\\{4,6,9\\\\}$\",\"layer\" : 0,\"parent\" : \"F340\",\"color\" : \"\",\"menus\" : {},\"messages\" : {},\"callbacks\" : {}},\"F347\" : {\"x\" : 0,\"y\" : 0,\"type\" : \"circle\",\"id\" : \"F347\",\"size\" : 5,\"title\" : \"$\\\\{4,6,11\\\\}$\",\"layer\" : 0,\"parent\" : \"F346\",\"color\" : \"\",\"menus\" : {},\"messages\" : {},\"callbacks\" : {}},\"F348\" : {\"x\" : 0,\"y\" : 0,\"type\" : \"circle\",\"id\" : \"F348\",\"size\" : 5,\"title\" : \"$\\\\{4,6,13\\\\}$\",\"layer\" : 0,\"parent\" : \"F347\",\"color\" : \"\",\"menus\" : {},\"messages\" : {},\"callbacks\" : {}},\"F349\" : {\"x\" : 0,\"y\" : 0,\"type\" : \"circle\",\"id\" : \"F349\",\"size\" : 5,\"title\" : \"$\\\\{4,6,15\\\\}$\",\"layer\" : 0,\"parent\" : \"F348\",\"color\" : \"\",\"menus\" : {},\"messages\" : {},\"callbacks\" : {}},\"F350\" : {\"x\" : 0,\"y\" : 0,\"type\" : \"circle\",\"id\" : \"F350\",\"size\" : 5,\"title\" : \"$\\\\{3,5\\\\}$\",\"layer\" : 0,\"parent\" : \"F317\",\"color\" : \"\",\"menus\" : {},\"messages\" : {},\"callbacks\" : {}},\"F351\" : {\"x\" : 0,\"y\" : 0,\"type\" : \"circle\",\"id\" : \"F351\",\"size\" : 5,\"title\" : \"$\\\\{3,7\\\\}$\",\"layer\" : 0,\"parent\" : \"F350\",\"color\" : \"\",\"menus\" : {},\"messages\" : {},\"callbacks\" : {}},\"F352\" : {\"x\" : 0,\"y\" : 0,\"type\" : \"circle\",\"id\" : \"F352\",\"size\" : 5,\"title\" : \"$\\\\{3,8\\\\}$\",\"layer\" : 0,\"parent\" : \"F351\",\"color\" : \"\",\"menus\" : {},\"messages\" : {},\"callbacks\" : {}},\"F353\" : {\"x\" : 0,\"y\" : 0,\"type\" : \"circle\",\"id\" : \"F353\",\"size\" : 5,\"title\" : \"$\\\\{3,10\\\\}$\",\"layer\" : 0,\"parent\" : \"F352\",\"color\" : \"\",\"menus\" : {},\"messages\" : {},\"callbacks\" : {}},\"F354\" : {\"x\" : 0,\"y\" : 0,\"type\" : \"circle\",\"id\" : \"F354\",\"size\" : 5,\"title\" : \"$\\\\{3,11\\\\}$\",\"layer\" : 0,\"parent\" : \"F353\",\"color\" : \"\",\"menus\" : {},\"messages\" : {},\"callbacks\" : {}},\"F355\" : {\"x\" : 0,\"y\" : 0,\"type\" : \"circle\",\"id\" : \"F355\",\"size\" : 5,\"title\" : \"$\\\\{3,13\\\\}$\",\"layer\" : 0,\"parent\" : \"F354\",\"color\" : \"\",\"menus\" : {},\"messages\" : {},\"callbacks\" : {}},\"F356\" : {\"x\" : 0,\"y\" : 0,\"type\" : \"circle\",\"id\" : \"F356\",\"size\" : 5,\"title\" : \"$\\\\{2,5\\\\}$\",\"layer\" : 0,\"parent\" : \"F316\",\"color\" : \"\",\"menus\" : {},\"messages\" : {},\"callbacks\" : {}},\"F357\" : {\"x\" : 0,\"y\" : 0,\"type\" : \"circle\",\"id\" : \"F357\",\"size\" : 5,\"title\" : \"$\\\\{2,7\\\\}$\",\"layer\" : 0,\"parent\" : \"F356\",\"color\" : \"\",\"menus\" : {},\"messages\" : {},\"callbacks\" : {}},\"F358\" : {\"x\" : 0,\"y\" : 0,\"type\" : \"circle\",\"id\" : \"F358\",\"size\" : 5,\"title\" : \"$\\\\{2,9\\\\}$\",\"layer\" : 0,\"parent\" : \"F357\",\"color\" : \"\",\"menus\" : {},\"messages\" : {},\"callbacks\" : {}},\"F359\" : {\"x\" : 0,\"y\" : 0,\"type\" : \"circle\",\"id\" : \"F359\",\"size\" : 5,\"title\" : \"$\\\\{2,11\\\\}$\",\"layer\" : 0,\"parent\" : \"F358\",\"color\" : \"\",\"menus\" : {},\"messages\" : {},\"callbacks\" : {}},\"F360\" : {\"x\" : 0,\"y\" : 0,\"type\" : \"circle\",\"id\" : \"F360\",\"size\" : 5,\"title\" : \"$\\\\{2,13\\\\}$\",\"layer\" : 0,\"parent\" : \"F359\",\"color\" : \"\",\"menus\" : {},\"messages\" : {},\"callbacks\" : {}},\"F361\" : {\"x\" : 0,\"y\" : 0,\"type\" : \"circle\",\"id\" : \"F361\",\"size\" : 5,\"title\" : \"$\\\\{2,15\\\\}$\",\"layer\" : 0,\"parent\" : \"F360\",\"color\" : \"\",\"menus\" : {},\"messages\" : {},\"callbacks\" : {}},\"F362\" : {\"x\" : 0,\"y\" : 0,\"type\" : \"circle\",\"id\" : \"F362\",\"size\" : 5,\"title\" : \"$\\\\{2,17\\\\}$\",\"layer\" : 0,\"parent\" : \"F361\",\"color\" : \"\",\"menus\" : {},\"messages\" : {},\"callbacks\" : {}}},\"links\" : {}},\"messages\" : {}}}"
     },
     "execution_count": 31,
     "metadata": {
      "application/vnd.francy+json": {}
     },
     "output_type": "execute_result"
    }
   ],
   "source": [
    "sonstree(NumericalSemigroup(1),8,ArfCharactersOfArfNumericalSemigroup);"
   ]
  },
  {
   "cell_type": "markdown",
   "metadata": {},
   "source": [
    "## Oversemigroups"
   ]
  },
  {
   "cell_type": "code",
   "execution_count": 32,
   "metadata": {},
   "outputs": [
    {
     "data": {
      "text/plain": [
       "function( s ) ... end"
      ]
     },
     "execution_count": 32,
     "metadata": {
      "text/plain": ""
     },
     "output_type": "execute_result"
    }
   ],
   "source": [
    "oversemigroups:=function(s)\n",
    "    local ov, graphHasse, canvas,c,i,r,ovs,n,hasse,lbl;\n",
    "    \n",
    "    hasse:=function(rel)\n",
    "      local dom, out;\n",
    "      dom:=Flat(rel);\n",
    "      out:=Filtered(rel, p-> ForAny(dom, x->([p[1],x] in rel) and ([x,p[2]] in rel)));\n",
    "      return Difference(rel,out);\n",
    "    end;\n",
    "\n",
    "    ov:=OverSemigroupsNumericalSemigroup(s);\n",
    "    n:=Length(ov);\n",
    "    graphHasse := Graph(GraphType.UNDIRECTED);\n",
    "    #SetSimulation(graphHasse,true);\n",
    "    #SetDrag(graphHasse,true);\n",
    "    c:=Cartesian([1..n],[1..n]);\n",
    "    c:=Filtered(c, p-> p[2]<>p[1]);\n",
    "    c:=Filtered(c, p-> IsSubset(ov[p[1]],ov[p[2]]));\n",
    "    c:=hasse(c);\n",
    "    ovs:=[];\n",
    "    for i in [1..n] do\n",
    "    lbl:=Concatenation(\"$\\\\langle\",JoinStringsWithSeparator(MinimalGenerators(ov[i]),\",\"),\"\\\\rangle$\");\n",
    "\n",
    "\n",
    "        if IsIrreducible(ov[i]) then\n",
    "            ovs[i]:=Shape(ShapeType!.DIAMOND, lbl);\n",
    "        else\n",
    "            ovs[i]:=Shape(ShapeType!.CIRCLE, lbl);\n",
    "        fi;\n",
    "        SetLayer(ovs[i],Genus(ov[i]));\n",
    "    SetSize(ovs[i],2);\n",
    "    Add(graphHasse,ovs[i]);\n",
    "    od;\n",
    "    for r in c do\n",
    "        Add(graphHasse,Link(ovs[r[1]],ovs[r[2]]));\n",
    "    od;\n",
    "    canvas:=Canvas(\"Oversemigroups\");\n",
    "    SetTexTypesetting(canvas, true);\n",
    "    Add(canvas,graphHasse);\n",
    "    return Draw(canvas);    \n",
    "end;"
   ]
  },
  {
   "cell_type": "markdown",
   "metadata": {},
   "source": [
    "A Hasse diagram of the set of oversemigroups of the given numerical semigroup is displayed. Irreducible numerical semigroups are drawn as diamonds. "
   ]
  },
  {
   "cell_type": "code",
   "execution_count": 33,
   "metadata": {
    "scrolled": false
   },
   "outputs": [
    {
     "data": {
      "application/vnd.francy+json": "{\"version\" : \"1.2.4\",\"mime\" : \"application\\/vnd.francy+json\",\"canvas\" : {\"width\" : 800,\"id\" : \"F407\",\"height\" : 600,\"title\" : \"Oversemigroups\",\"zoomToFit\" : true,\"texTypesetting\" : true,\"menus\" : {},\"graph\" : {\"type\" : \"undirected\",\"id\" : \"F363\",\"simulation\" : true,\"collapsed\" : true,\"nodes\" : {\"F364\" : {\"x\" : 0,\"y\" : 0,\"type\" : \"diamond\",\"id\" : \"F364\",\"size\" : 2,\"title\" : \"$\\\\langle1\\\\rangle$\",\"layer\" : 0,\"parent\" : \"\",\"color\" : \"\",\"menus\" : {},\"messages\" : {},\"callbacks\" : {}},\"F365\" : {\"x\" : 0,\"y\" : 0,\"type\" : \"diamond\",\"id\" : \"F365\",\"size\" : 2,\"title\" : \"$\\\\langle2,3\\\\rangle$\",\"layer\" : 1,\"parent\" : \"\",\"color\" : \"\",\"menus\" : {},\"messages\" : {},\"callbacks\" : {}},\"F366\" : {\"x\" : 0,\"y\" : 0,\"type\" : \"diamond\",\"id\" : \"F366\",\"size\" : 2,\"title\" : \"$\\\\langle2,5\\\\rangle$\",\"layer\" : 2,\"parent\" : \"\",\"color\" : \"\",\"menus\" : {},\"messages\" : {},\"callbacks\" : {}},\"F367\" : {\"x\" : 0,\"y\" : 0,\"type\" : \"diamond\",\"id\" : \"F367\",\"size\" : 2,\"title\" : \"$\\\\langle2,7\\\\rangle$\",\"layer\" : 3,\"parent\" : \"\",\"color\" : \"\",\"menus\" : {},\"messages\" : {},\"callbacks\" : {}},\"F368\" : {\"x\" : 0,\"y\" : 0,\"type\" : \"diamond\",\"id\" : \"F368\",\"size\" : 2,\"title\" : \"$\\\\langle3,4,5\\\\rangle$\",\"layer\" : 2,\"parent\" : \"\",\"color\" : \"\",\"menus\" : {},\"messages\" : {},\"callbacks\" : {}},\"F369\" : {\"x\" : 0,\"y\" : 0,\"type\" : \"diamond\",\"id\" : \"F369\",\"size\" : 2,\"title\" : \"$\\\\langle3,4\\\\rangle$\",\"layer\" : 3,\"parent\" : \"\",\"color\" : \"\",\"menus\" : {},\"messages\" : {},\"callbacks\" : {}},\"F370\" : {\"x\" : 0,\"y\" : 0,\"type\" : \"diamond\",\"id\" : \"F370\",\"size\" : 2,\"title\" : \"$\\\\langle3,5,7\\\\rangle$\",\"layer\" : 3,\"parent\" : \"\",\"color\" : \"\",\"menus\" : {},\"messages\" : {},\"callbacks\" : {}},\"F371\" : {\"x\" : 0,\"y\" : 0,\"type\" : \"circle\",\"id\" : \"F371\",\"size\" : 2,\"title\" : \"$\\\\langle3,7,8\\\\rangle$\",\"layer\" : 4,\"parent\" : \"\",\"color\" : \"\",\"menus\" : {},\"messages\" : {},\"callbacks\" : {}},\"F372\" : {\"x\" : 0,\"y\" : 0,\"type\" : \"diamond\",\"id\" : \"F372\",\"size\" : 2,\"title\" : \"$\\\\langle3,7,11\\\\rangle$\",\"layer\" : 5,\"parent\" : \"\",\"color\" : \"\",\"menus\" : {},\"messages\" : {},\"callbacks\" : {}},\"F373\" : {\"x\" : 0,\"y\" : 0,\"type\" : \"circle\",\"id\" : \"F373\",\"size\" : 2,\"title\" : \"$\\\\langle4,5,6,7\\\\rangle$\",\"layer\" : 3,\"parent\" : \"\",\"color\" : \"\",\"menus\" : {},\"messages\" : {},\"callbacks\" : {}},\"F374\" : {\"x\" : 0,\"y\" : 0,\"type\" : \"circle\",\"id\" : \"F374\",\"size\" : 2,\"title\" : \"$\\\\langle4,6,7,9\\\\rangle$\",\"layer\" : 4,\"parent\" : \"\",\"color\" : \"\",\"menus\" : {},\"messages\" : {},\"callbacks\" : {}},\"F375\" : {\"x\" : 0,\"y\" : 0,\"type\" : \"circle\",\"id\" : \"F375\",\"size\" : 2,\"title\" : \"$\\\\langle5,6,7,8,9\\\\rangle$\",\"layer\" : 4,\"parent\" : \"\",\"color\" : \"\",\"menus\" : {},\"messages\" : {},\"callbacks\" : {}},\"F376\" : {\"x\" : 0,\"y\" : 0,\"type\" : \"diamond\",\"id\" : \"F376\",\"size\" : 2,\"title\" : \"$\\\\langle5,6,7,9\\\\rangle$\",\"layer\" : 5,\"parent\" : \"\",\"color\" : \"\",\"menus\" : {},\"messages\" : {},\"callbacks\" : {}},\"F377\" : {\"x\" : 0,\"y\" : 0,\"type\" : \"circle\",\"id\" : \"F377\",\"size\" : 2,\"title\" : \"$\\\\langle6,7,8,9,10,11\\\\rangle$\",\"layer\" : 5,\"parent\" : \"\",\"color\" : \"\",\"menus\" : {},\"messages\" : {},\"callbacks\" : {}},\"F378\" : {\"x\" : 0,\"y\" : 0,\"type\" : \"diamond\",\"id\" : \"F378\",\"size\" : 2,\"title\" : \"$\\\\langle6,7,8,9,11\\\\rangle$\",\"layer\" : 6,\"parent\" : \"\",\"color\" : \"\",\"menus\" : {},\"messages\" : {},\"callbacks\" : {}},\"F379\" : {\"x\" : 0,\"y\" : 0,\"type\" : \"circle\",\"id\" : \"F379\",\"size\" : 2,\"title\" : \"$\\\\langle6,7,9,10,11\\\\rangle$\",\"layer\" : 6,\"parent\" : \"\",\"color\" : \"\",\"menus\" : {},\"messages\" : {},\"callbacks\" : {}},\"F380\" : {\"x\" : 0,\"y\" : 0,\"type\" : \"circle\",\"id\" : \"F380\",\"size\" : 2,\"title\" : \"$\\\\langle6,7,9,11\\\\rangle$\",\"layer\" : 7,\"parent\" : \"\",\"color\" : \"\",\"menus\" : {},\"messages\" : {},\"callbacks\" : {}}},\"links\" : {\"F381\" : {\"id\" : \"F381\",\"source\" : \"F364\",\"length\" : 0,\"weight\" : 0,\"target\" : \"F365\",\"color\" : \"\",\"invisible\" : false},\"F382\" : {\"id\" : \"F382\",\"source\" : \"F365\",\"length\" : 0,\"weight\" : 0,\"target\" : \"F366\",\"color\" : \"\",\"invisible\" : false},\"F383\" : {\"id\" : \"F383\",\"source\" : \"F365\",\"length\" : 0,\"weight\" : 0,\"target\" : \"F368\",\"color\" : \"\",\"invisible\" : false},\"F384\" : {\"id\" : \"F384\",\"source\" : \"F366\",\"length\" : 0,\"weight\" : 0,\"target\" : \"F367\",\"color\" : \"\",\"invisible\" : false},\"F385\" : {\"id\" : \"F385\",\"source\" : \"F366\",\"length\" : 0,\"weight\" : 0,\"target\" : \"F373\",\"color\" : \"\",\"invisible\" : false},\"F386\" : {\"id\" : \"F386\",\"source\" : \"F367\",\"length\" : 0,\"weight\" : 0,\"target\" : \"F374\",\"color\" : \"\",\"invisible\" : false},\"F387\" : {\"id\" : \"F387\",\"source\" : \"F368\",\"length\" : 0,\"weight\" : 0,\"target\" : \"F369\",\"color\" : \"\",\"invisible\" : false},\"F388\" : {\"id\" : \"F388\",\"source\" : \"F368\",\"length\" : 0,\"weight\" : 0,\"target\" : \"F370\",\"color\" : \"\",\"invisible\" : false},\"F389\" : {\"id\" : \"F389\",\"source\" : \"F368\",\"length\" : 0,\"weight\" : 0,\"target\" : \"F373\",\"color\" : \"\",\"invisible\" : false},\"F390\" : {\"id\" : \"F390\",\"source\" : \"F369\",\"length\" : 0,\"weight\" : 0,\"target\" : \"F371\",\"color\" : \"\",\"invisible\" : false},\"F391\" : {\"id\" : \"F391\",\"source\" : \"F369\",\"length\" : 0,\"weight\" : 0,\"target\" : \"F374\",\"color\" : \"\",\"invisible\" : false},\"F392\" : {\"id\" : \"F392\",\"source\" : \"F370\",\"length\" : 0,\"weight\" : 0,\"target\" : \"F371\",\"color\" : \"\",\"invisible\" : false},\"F393\" : {\"id\" : \"F393\",\"source\" : \"F370\",\"length\" : 0,\"weight\" : 0,\"target\" : \"F375\",\"color\" : \"\",\"invisible\" : false},\"F394\" : {\"id\" : \"F394\",\"source\" : \"F371\",\"length\" : 0,\"weight\" : 0,\"target\" : \"F372\",\"color\" : \"\",\"invisible\" : false},\"F395\" : {\"id\" : \"F395\",\"source\" : \"F371\",\"length\" : 0,\"weight\" : 0,\"target\" : \"F377\",\"color\" : \"\",\"invisible\" : false},\"F396\" : {\"id\" : \"F396\",\"source\" : \"F372\",\"length\" : 0,\"weight\" : 0,\"target\" : \"F379\",\"color\" : \"\",\"invisible\" : false},\"F397\" : {\"id\" : \"F397\",\"source\" : \"F373\",\"length\" : 0,\"weight\" : 0,\"target\" : \"F374\",\"color\" : \"\",\"invisible\" : false},\"F398\" : {\"id\" : \"F398\",\"source\" : \"F373\",\"length\" : 0,\"weight\" : 0,\"target\" : \"F375\",\"color\" : \"\",\"invisible\" : false},\"F399\" : {\"id\" : \"F399\",\"source\" : \"F374\",\"length\" : 0,\"weight\" : 0,\"target\" : \"F377\",\"color\" : \"\",\"invisible\" : false},\"F400\" : {\"id\" : \"F400\",\"source\" : \"F375\",\"length\" : 0,\"weight\" : 0,\"target\" : \"F376\",\"color\" : \"\",\"invisible\" : false},\"F401\" : {\"id\" : \"F401\",\"source\" : \"F375\",\"length\" : 0,\"weight\" : 0,\"target\" : \"F377\",\"color\" : \"\",\"invisible\" : false},\"F402\" : {\"id\" : \"F402\",\"source\" : \"F376\",\"length\" : 0,\"weight\" : 0,\"target\" : \"F379\",\"color\" : \"\",\"invisible\" : false},\"F403\" : {\"id\" : \"F403\",\"source\" : \"F377\",\"length\" : 0,\"weight\" : 0,\"target\" : \"F378\",\"color\" : \"\",\"invisible\" : false},\"F404\" : {\"id\" : \"F404\",\"source\" : \"F377\",\"length\" : 0,\"weight\" : 0,\"target\" : \"F379\",\"color\" : \"\",\"invisible\" : false},\"F405\" : {\"id\" : \"F405\",\"source\" : \"F378\",\"length\" : 0,\"weight\" : 0,\"target\" : \"F380\",\"color\" : \"\",\"invisible\" : false},\"F406\" : {\"id\" : \"F406\",\"source\" : \"F379\",\"length\" : 0,\"weight\" : 0,\"target\" : \"F380\",\"color\" : \"\",\"invisible\" : false}}},\"messages\" : {}}}"
     },
     "execution_count": 33,
     "metadata": {
      "application/vnd.francy+json": {}
     },
     "output_type": "execute_result"
    }
   ],
   "source": [
    "oversemigroups(NumericalSemigroup(6,7,9,11));"
   ]
  },
  {
   "cell_type": "markdown",
   "metadata": {},
   "source": [
    "## Graphs associated to elements"
   ]
  },
  {
   "cell_type": "markdown",
   "metadata": {},
   "source": [
    "The Eliahou graph of an element in a numerical semigroup is a graph whose vertices are the factorizations of the element, and to vertices are joined with an edge if they have common support."
   ]
  },
  {
   "cell_type": "code",
   "execution_count": 34,
   "metadata": {},
   "outputs": [
    {
     "data": {
      "text/plain": [
       "function( n, s ) ... end"
      ]
     },
     "execution_count": 34,
     "metadata": {
      "text/plain": ""
     },
     "output_type": "execute_result"
    }
   ],
   "source": [
    "DrawEliahouGraph:=function(n,s)\n",
    "    local graph, canvas, f, fs, c, nf, i, p;\n",
    "    \n",
    "    f:=FactorizationsElementWRTNumericalSemigroup(n,s);\n",
    "    graph:=Graph(GraphType.UNDIRECTED);\n",
    "    #SetShowNeighbours(graph,true);\n",
    "    #SetSimulation(graph,true);\n",
    "    #SetDrag(graph,true);\n",
    "    nf:=Length(f);\n",
    "    fs:=[];\n",
    "    for i in [1..nf] do \n",
    "        fs[i]:=Shape(ShapeType!.CIRCLE, Concatenation(\"(\",JoinStringsWithSeparator(f[i],\",\"),\")\"));\n",
    "        SetLayer(fs[i],Sum(f[i]));\n",
    "        SetSize(fs[i],1);\n",
    "        Add(graph,fs[i]);\n",
    "    od;\n",
    "    c:=Cartesian([1..nf],[1..nf]);\n",
    "    c:=Filtered(c,p->p[1]<p[2] and f[p[1]]*f[p[2]]<>0);\n",
    "    for p in c do \n",
    "        Add(graph,Link(fs[p[1]],fs[p[2]]));\n",
    "    od;\n",
    "    canvas:=Canvas(\"Eliahou graph\");\n",
    "    Add(canvas,graph);\n",
    "    return Draw(canvas);\n",
    "end;"
   ]
  },
  {
   "cell_type": "code",
   "execution_count": 35,
   "metadata": {},
   "outputs": [
    {
     "data": {
      "text/plain": [
       "Numerical semigroup with 3 generators"
      ]
     },
     "execution_count": 35,
     "metadata": {
      "text/plain": ""
     },
     "output_type": "execute_result"
    }
   ],
   "source": [
    "s:=NumericalSemigroup(5,7,9);"
   ]
  },
  {
   "cell_type": "code",
   "execution_count": 36,
   "metadata": {
    "scrolled": false
   },
   "outputs": [
    {
     "data": {
      "application/vnd.francy+json": "{\"version\" : \"1.2.4\",\"mime\" : \"application\\/vnd.francy+json\",\"canvas\" : {\"width\" : 800,\"id\" : \"F429\",\"height\" : 600,\"title\" : \"Eliahou graph\",\"zoomToFit\" : true,\"texTypesetting\" : false,\"menus\" : {},\"graph\" : {\"type\" : \"undirected\",\"id\" : \"F408\",\"simulation\" : true,\"collapsed\" : true,\"nodes\" : {\"F409\" : {\"x\" : 0,\"y\" : 0,\"type\" : \"circle\",\"id\" : \"F409\",\"size\" : 1,\"title\" : \"(7,2,0)\",\"layer\" : 9,\"parent\" : \"\",\"color\" : \"\",\"menus\" : {},\"messages\" : {},\"callbacks\" : {}},\"F410\" : {\"x\" : 0,\"y\" : 0,\"type\" : \"circle\",\"id\" : \"F410\",\"size\" : 1,\"title\" : \"(0,7,0)\",\"layer\" : 7,\"parent\" : \"\",\"color\" : \"\",\"menus\" : {},\"messages\" : {},\"callbacks\" : {}},\"F411\" : {\"x\" : 0,\"y\" : 0,\"type\" : \"circle\",\"id\" : \"F411\",\"size\" : 1,\"title\" : \"(8,0,1)\",\"layer\" : 9,\"parent\" : \"\",\"color\" : \"\",\"menus\" : {},\"messages\" : {},\"callbacks\" : {}},\"F412\" : {\"x\" : 0,\"y\" : 0,\"type\" : \"circle\",\"id\" : \"F412\",\"size\" : 1,\"title\" : \"(1,5,1)\",\"layer\" : 7,\"parent\" : \"\",\"color\" : \"\",\"menus\" : {},\"messages\" : {},\"callbacks\" : {}},\"F413\" : {\"x\" : 0,\"y\" : 0,\"type\" : \"circle\",\"id\" : \"F413\",\"size\" : 1,\"title\" : \"(2,3,2)\",\"layer\" : 7,\"parent\" : \"\",\"color\" : \"\",\"menus\" : {},\"messages\" : {},\"callbacks\" : {}},\"F414\" : {\"x\" : 0,\"y\" : 0,\"type\" : \"circle\",\"id\" : \"F414\",\"size\" : 1,\"title\" : \"(3,1,3)\",\"layer\" : 7,\"parent\" : \"\",\"color\" : \"\",\"menus\" : {},\"messages\" : {},\"callbacks\" : {}}},\"links\" : {\"F415\" : {\"id\" : \"F415\",\"source\" : \"F409\",\"length\" : 0,\"weight\" : 0,\"target\" : \"F410\",\"color\" : \"\",\"invisible\" : false},\"F416\" : {\"id\" : \"F416\",\"source\" : \"F409\",\"length\" : 0,\"weight\" : 0,\"target\" : \"F411\",\"color\" : \"\",\"invisible\" : false},\"F417\" : {\"id\" : \"F417\",\"source\" : \"F409\",\"length\" : 0,\"weight\" : 0,\"target\" : \"F412\",\"color\" : \"\",\"invisible\" : false},\"F418\" : {\"id\" : \"F418\",\"source\" : \"F409\",\"length\" : 0,\"weight\" : 0,\"target\" : \"F413\",\"color\" : \"\",\"invisible\" : false},\"F419\" : {\"id\" : \"F419\",\"source\" : \"F409\",\"length\" : 0,\"weight\" : 0,\"target\" : \"F414\",\"color\" : \"\",\"invisible\" : false},\"F420\" : {\"id\" : \"F420\",\"source\" : \"F410\",\"length\" : 0,\"weight\" : 0,\"target\" : \"F412\",\"color\" : \"\",\"invisible\" : false},\"F421\" : {\"id\" : \"F421\",\"source\" : \"F410\",\"length\" : 0,\"weight\" : 0,\"target\" : \"F413\",\"color\" : \"\",\"invisible\" : false},\"F422\" : {\"id\" : \"F422\",\"source\" : \"F410\",\"length\" : 0,\"weight\" : 0,\"target\" : \"F414\",\"color\" : \"\",\"invisible\" : false},\"F423\" : {\"id\" : \"F423\",\"source\" : \"F411\",\"length\" : 0,\"weight\" : 0,\"target\" : \"F412\",\"color\" : \"\",\"invisible\" : false},\"F424\" : {\"id\" : \"F424\",\"source\" : \"F411\",\"length\" : 0,\"weight\" : 0,\"target\" : \"F413\",\"color\" : \"\",\"invisible\" : false},\"F425\" : {\"id\" : \"F425\",\"source\" : \"F411\",\"length\" : 0,\"weight\" : 0,\"target\" : \"F414\",\"color\" : \"\",\"invisible\" : false},\"F426\" : {\"id\" : \"F426\",\"source\" : \"F412\",\"length\" : 0,\"weight\" : 0,\"target\" : \"F413\",\"color\" : \"\",\"invisible\" : false},\"F427\" : {\"id\" : \"F427\",\"source\" : \"F412\",\"length\" : 0,\"weight\" : 0,\"target\" : \"F414\",\"color\" : \"\",\"invisible\" : false},\"F428\" : {\"id\" : \"F428\",\"source\" : \"F413\",\"length\" : 0,\"weight\" : 0,\"target\" : \"F414\",\"color\" : \"\",\"invisible\" : false}}},\"messages\" : {}}}"
     },
     "execution_count": 36,
     "metadata": {
      "application/vnd.francy+json": {}
     },
     "output_type": "execute_result"
    }
   ],
   "source": [
    "DrawEliahouGraph(49,s);"
   ]
  },
  {
   "cell_type": "code",
   "execution_count": 37,
   "metadata": {},
   "outputs": [
    {
     "data": {
      "text/plain": [
       "[ 14, 25, 27 ]"
      ]
     },
     "execution_count": 37,
     "metadata": {
      "text/plain": ""
     },
     "output_type": "execute_result"
    }
   ],
   "source": [
    "BettiElements(s);"
   ]
  },
  {
   "cell_type": "code",
   "execution_count": 38,
   "metadata": {},
   "outputs": [
    {
     "data": {
      "application/vnd.francy+json": "{\"version\" : \"1.2.4\",\"mime\" : \"application\\/vnd.francy+json\",\"canvas\" : {\"width\" : 800,\"id\" : \"F458\",\"height\" : 600,\"title\" : \"Eliahou graph\",\"zoomToFit\" : true,\"texTypesetting\" : false,\"menus\" : {},\"graph\" : {\"type\" : \"undirected\",\"id\" : \"F430\",\"simulation\" : true,\"collapsed\" : true,\"nodes\" : {\"F431\" : {\"x\" : 0,\"y\" : 0,\"type\" : \"circle\",\"id\" : \"F431\",\"size\" : 1,\"title\" : \"(11,0,0)\",\"layer\" : 11,\"parent\" : \"\",\"color\" : \"\",\"menus\" : {},\"messages\" : {},\"callbacks\" : {}},\"F432\" : {\"x\" : 0,\"y\" : 0,\"type\" : \"circle\",\"id\" : \"F432\",\"size\" : 1,\"title\" : \"(4,5,0)\",\"layer\" : 9,\"parent\" : \"\",\"color\" : \"\",\"menus\" : {},\"messages\" : {},\"callbacks\" : {}},\"F433\" : {\"x\" : 0,\"y\" : 0,\"type\" : \"circle\",\"id\" : \"F433\",\"size\" : 1,\"title\" : \"(5,3,1)\",\"layer\" : 9,\"parent\" : \"\",\"color\" : \"\",\"menus\" : {},\"messages\" : {},\"callbacks\" : {}},\"F434\" : {\"x\" : 0,\"y\" : 0,\"type\" : \"circle\",\"id\" : \"F434\",\"size\" : 1,\"title\" : \"(6,1,2)\",\"layer\" : 9,\"parent\" : \"\",\"color\" : \"\",\"menus\" : {},\"messages\" : {},\"callbacks\" : {}},\"F435\" : {\"x\" : 0,\"y\" : 0,\"type\" : \"circle\",\"id\" : \"F435\",\"size\" : 1,\"title\" : \"(0,4,3)\",\"layer\" : 7,\"parent\" : \"\",\"color\" : \"\",\"menus\" : {},\"messages\" : {},\"callbacks\" : {}},\"F436\" : {\"x\" : 0,\"y\" : 0,\"type\" : \"circle\",\"id\" : \"F436\",\"size\" : 1,\"title\" : \"(1,2,4)\",\"layer\" : 7,\"parent\" : \"\",\"color\" : \"\",\"menus\" : {},\"messages\" : {},\"callbacks\" : {}},\"F437\" : {\"x\" : 0,\"y\" : 0,\"type\" : \"circle\",\"id\" : \"F437\",\"size\" : 1,\"title\" : \"(2,0,5)\",\"layer\" : 7,\"parent\" : \"\",\"color\" : \"\",\"menus\" : {},\"messages\" : {},\"callbacks\" : {}}},\"links\" : {\"F438\" : {\"id\" : \"F438\",\"source\" : \"F431\",\"length\" : 0,\"weight\" : 0,\"target\" : \"F432\",\"color\" : \"\",\"invisible\" : false},\"F439\" : {\"id\" : \"F439\",\"source\" : \"F431\",\"length\" : 0,\"weight\" : 0,\"target\" : \"F433\",\"color\" : \"\",\"invisible\" : false},\"F440\" : {\"id\" : \"F440\",\"source\" : \"F431\",\"length\" : 0,\"weight\" : 0,\"target\" : \"F434\",\"color\" : \"\",\"invisible\" : false},\"F441\" : {\"id\" : \"F441\",\"source\" : \"F431\",\"length\" : 0,\"weight\" : 0,\"target\" : \"F436\",\"color\" : \"\",\"invisible\" : false},\"F442\" : {\"id\" : \"F442\",\"source\" : \"F431\",\"length\" : 0,\"weight\" : 0,\"target\" : \"F437\",\"color\" : \"\",\"invisible\" : false},\"F443\" : {\"id\" : \"F443\",\"source\" : \"F432\",\"length\" : 0,\"weight\" : 0,\"target\" : \"F433\",\"color\" : \"\",\"invisible\" : false},\"F444\" : {\"id\" : \"F444\",\"source\" : \"F432\",\"length\" : 0,\"weight\" : 0,\"target\" : \"F434\",\"color\" : \"\",\"invisible\" : false},\"F445\" : {\"id\" : \"F445\",\"source\" : \"F432\",\"length\" : 0,\"weight\" : 0,\"target\" : \"F435\",\"color\" : \"\",\"invisible\" : false},\"F446\" : {\"id\" : \"F446\",\"source\" : \"F432\",\"length\" : 0,\"weight\" : 0,\"target\" : \"F436\",\"color\" : \"\",\"invisible\" : false},\"F447\" : {\"id\" : \"F447\",\"source\" : \"F432\",\"length\" : 0,\"weight\" : 0,\"target\" : \"F437\",\"color\" : \"\",\"invisible\" : false},\"F448\" : {\"id\" : \"F448\",\"source\" : \"F433\",\"length\" : 0,\"weight\" : 0,\"target\" : \"F434\",\"color\" : \"\",\"invisible\" : false},\"F449\" : {\"id\" : \"F449\",\"source\" : \"F433\",\"length\" : 0,\"weight\" : 0,\"target\" : \"F435\",\"color\" : \"\",\"invisible\" : false},\"F450\" : {\"id\" : \"F450\",\"source\" : \"F433\",\"length\" : 0,\"weight\" : 0,\"target\" : \"F436\",\"color\" : \"\",\"invisible\" : false},\"F451\" : {\"id\" : \"F451\",\"source\" : \"F433\",\"length\" : 0,\"weight\" : 0,\"target\" : \"F437\",\"color\" : \"\",\"invisible\" : false},\"F452\" : {\"id\" : \"F452\",\"source\" : \"F434\",\"length\" : 0,\"weight\" : 0,\"target\" : \"F435\",\"color\" : \"\",\"invisible\" : false},\"F453\" : {\"id\" : \"F453\",\"source\" : \"F434\",\"length\" : 0,\"weight\" : 0,\"target\" : \"F436\",\"color\" : \"\",\"invisible\" : false},\"F454\" : {\"id\" : \"F454\",\"source\" : \"F434\",\"length\" : 0,\"weight\" : 0,\"target\" : \"F437\",\"color\" : \"\",\"invisible\" : false},\"F455\" : {\"id\" : \"F455\",\"source\" : \"F435\",\"length\" : 0,\"weight\" : 0,\"target\" : \"F436\",\"color\" : \"\",\"invisible\" : false},\"F456\" : {\"id\" : \"F456\",\"source\" : \"F435\",\"length\" : 0,\"weight\" : 0,\"target\" : \"F437\",\"color\" : \"\",\"invisible\" : false},\"F457\" : {\"id\" : \"F457\",\"source\" : \"F436\",\"length\" : 0,\"weight\" : 0,\"target\" : \"F437\",\"color\" : \"\",\"invisible\" : false}}},\"messages\" : {}}}"
     },
     "execution_count": 38,
     "metadata": {
      "application/vnd.francy+json": {}
     },
     "output_type": "execute_result"
    }
   ],
   "source": [
    "DrawEliahouGraph(55,s);"
   ]
  },
  {
   "cell_type": "code",
   "execution_count": 39,
   "metadata": {},
   "outputs": [
    {
     "data": {
      "text/plain": [
       "function( n, s ) ... end"
      ]
     },
     "execution_count": 39,
     "metadata": {
      "text/plain": ""
     },
     "output_type": "execute_result"
    }
   ],
   "source": [
    "DrawRosalesGraph:=function(n,s)\n",
    "    local graph, canvas, msg, msgs, c, nv, i, p;\n",
    "    \n",
    "    msg:=Filtered(MinimalGenerators(s), g->n-g in s);\n",
    "    graph:=Graph(GraphType.UNDIRECTED);\n",
    "    #SetSimulation(graph,true);\n",
    "    #SetDrag(graph,true);\n",
    "    nv:=Length(msg);\n",
    "    msgs:=[];\n",
    "    for i in [1..nv] do \n",
    "        msgs[i]:=Shape(ShapeType!.CIRCLE, String(msg[i]));\n",
    "        SetSize(msgs[i],1);\n",
    "        Add(graph,msgs[i]);\n",
    "    od;\n",
    "    c:=Cartesian([1..nv],[1..nv]);\n",
    "    c:=Filtered(c,p->p[1]<p[2] and n-(msg[p[1]]+msg[p[2]]) in s);\n",
    "    for p in c do \n",
    "        Add(graph,Link(msgs[p[1]],msgs[p[2]]));\n",
    "    od;\n",
    "    canvas:=Canvas(\"Rosales graph\");\n",
    "    Add(canvas,graph);\n",
    "    return Draw(canvas);\n",
    "end;"
   ]
  },
  {
   "cell_type": "code",
   "execution_count": 40,
   "metadata": {},
   "outputs": [
    {
     "data": {
      "text/plain": [
       "Numerical semigroup with 3 generators"
      ]
     },
     "execution_count": 40,
     "metadata": {
      "text/plain": ""
     },
     "output_type": "execute_result"
    }
   ],
   "source": [
    "s:=NumericalSemigroup(5,7,9);"
   ]
  },
  {
   "cell_type": "code",
   "execution_count": 41,
   "metadata": {},
   "outputs": [
    {
     "data": {
      "application/vnd.francy+json": "{\"version\" : \"1.2.4\",\"mime\" : \"application\\/vnd.francy+json\",\"canvas\" : {\"width\" : 800,\"id\" : \"F466\",\"height\" : 600,\"title\" : \"Rosales graph\",\"zoomToFit\" : true,\"texTypesetting\" : false,\"menus\" : {},\"graph\" : {\"type\" : \"undirected\",\"id\" : \"F459\",\"simulation\" : true,\"collapsed\" : true,\"nodes\" : {\"F460\" : {\"x\" : 0,\"y\" : 0,\"type\" : \"circle\",\"id\" : \"F460\",\"size\" : 1,\"title\" : \"5\",\"layer\" : 0,\"parent\" : \"\",\"color\" : \"\",\"menus\" : {},\"messages\" : {},\"callbacks\" : {}},\"F461\" : {\"x\" : 0,\"y\" : 0,\"type\" : \"circle\",\"id\" : \"F461\",\"size\" : 1,\"title\" : \"7\",\"layer\" : 0,\"parent\" : \"\",\"color\" : \"\",\"menus\" : {},\"messages\" : {},\"callbacks\" : {}},\"F462\" : {\"x\" : 0,\"y\" : 0,\"type\" : \"circle\",\"id\" : \"F462\",\"size\" : 1,\"title\" : \"9\",\"layer\" : 0,\"parent\" : \"\",\"color\" : \"\",\"menus\" : {},\"messages\" : {},\"callbacks\" : {}}},\"links\" : {\"F463\" : {\"id\" : \"F463\",\"source\" : \"F460\",\"length\" : 0,\"weight\" : 0,\"target\" : \"F461\",\"color\" : \"\",\"invisible\" : false},\"F464\" : {\"id\" : \"F464\",\"source\" : \"F460\",\"length\" : 0,\"weight\" : 0,\"target\" : \"F462\",\"color\" : \"\",\"invisible\" : false},\"F465\" : {\"id\" : \"F465\",\"source\" : \"F461\",\"length\" : 0,\"weight\" : 0,\"target\" : \"F462\",\"color\" : \"\",\"invisible\" : false}}},\"messages\" : {}}}"
     },
     "execution_count": 41,
     "metadata": {
      "application/vnd.francy+json": {}
     },
     "output_type": "execute_result"
    }
   ],
   "source": [
    "DrawRosalesGraph(49,s);"
   ]
  },
  {
   "cell_type": "code",
   "execution_count": 42,
   "metadata": {},
   "outputs": [
    {
     "data": {
      "application/vnd.francy+json": "{\"version\" : \"1.2.4\",\"mime\" : \"application\\/vnd.francy+json\",\"canvas\" : {\"width\" : 800,\"id\" : \"F472\",\"height\" : 600,\"title\" : \"Rosales graph\",\"zoomToFit\" : true,\"texTypesetting\" : false,\"menus\" : {},\"graph\" : {\"type\" : \"undirected\",\"id\" : \"F467\",\"simulation\" : true,\"collapsed\" : true,\"nodes\" : {\"F468\" : {\"x\" : 0,\"y\" : 0,\"type\" : \"circle\",\"id\" : \"F468\",\"size\" : 1,\"title\" : \"3\",\"layer\" : 0,\"parent\" : \"\",\"color\" : \"\",\"menus\" : {},\"messages\" : {},\"callbacks\" : {}},\"F469\" : {\"x\" : 0,\"y\" : 0,\"type\" : \"circle\",\"id\" : \"F469\",\"size\" : 1,\"title\" : \"5\",\"layer\" : 0,\"parent\" : \"\",\"color\" : \"\",\"menus\" : {},\"messages\" : {},\"callbacks\" : {}},\"F470\" : {\"x\" : 0,\"y\" : 0,\"type\" : \"circle\",\"id\" : \"F470\",\"size\" : 1,\"title\" : \"7\",\"layer\" : 0,\"parent\" : \"\",\"color\" : \"\",\"menus\" : {},\"messages\" : {},\"callbacks\" : {}}},\"links\" : {\"F471\" : {\"id\" : \"F471\",\"source\" : \"F468\",\"length\" : 0,\"weight\" : 0,\"target\" : \"F470\",\"color\" : \"\",\"invisible\" : false}}},\"messages\" : {}}}"
     },
     "execution_count": 42,
     "metadata": {
      "application/vnd.francy+json": {}
     },
     "output_type": "execute_result"
    }
   ],
   "source": [
    "DrawRosalesGraph(10,NumericalSemigroup(3,5,7));"
   ]
  },
  {
   "cell_type": "markdown",
   "metadata": {},
   "source": [
    "## Graphs of factorizations"
   ]
  },
  {
   "cell_type": "code",
   "execution_count": 43,
   "metadata": {},
   "outputs": [
    {
     "data": {
      "text/plain": [
       "function( f ) ... end"
      ]
     },
     "execution_count": 43,
     "metadata": {
      "text/plain": ""
     },
     "output_type": "execute_result"
    }
   ],
   "source": [
    "DrawFactorizationGraph:=function(f)\n",
    "    local graph, canvas, fs, c, nf, i, p, ln, distance, Kruskal, tv;\n",
    "\n",
    "    Kruskal := function(V, E)\n",
    "        local trees, needed, v, e, i,j, nv;\n",
    "\n",
    "        trees := List(V, v-> [v]);\n",
    "        needed := [];\n",
    "        nv:=Length(V);\n",
    "        for e in E do\n",
    "          i:=First([1..Length(trees)], k-> e[1] in trees[k]);\n",
    "          j:=First([1..Length(trees)], k-> e[2] in trees[k]);\n",
    "          if i<>j then\n",
    "            trees[i]:=Union(trees[i], trees[j]);\n",
    "            trees[j]:=[];\n",
    "            Add(needed,e);\n",
    "          fi;\n",
    "          if Length(needed)=nv-1 then\n",
    "            break;\n",
    "          fi;\n",
    "        od;\n",
    "        return needed;\n",
    "    end;\n",
    " \n",
    "    distance := function(a,b)\n",
    "        local   k,  gcd,  i;\n",
    "\n",
    "        k := Length(a);\n",
    "        if k <> Length(b) then\n",
    "            Error(\"The lengths of a and b are different.\\n\");\n",
    "        fi;\n",
    "\n",
    "\n",
    "        gcd := [];\n",
    "        for i in [1..k] do\n",
    "            Add(gcd, Minimum(a[i],b[i]));\n",
    "        od;\n",
    "        return(Maximum(Sum(a-gcd),Sum(b-gcd)));\n",
    "\n",
    "    end;\n",
    "\n",
    "    graph:=Graph(GraphType.UNDIRECTED);\n",
    "# SetSimulation(graph,true);\n",
    "#SetDrag(graph,true);\n",
    "#SetShowNeighbours(graph,true);\n",
    "    nf:=Length(f);\n",
    "    fs:=[];\n",
    "    for i in [1..nf] do \n",
    "        fs[i]:=Shape(ShapeType!.CIRCLE, Concatenation(\"(\",JoinStringsWithSeparator(f[i],\",\"),\")\"));\n",
    "        SetLayer(fs[i],Sum(f[i]));\n",
    "        SetSize(fs[i],1);\n",
    "        Add(graph,fs[i]);\n",
    "    od;\n",
    "    c:=Cartesian([1..nf],[1..nf]);\n",
    "    c:=Filtered(c,p->p[1]<p[2] and f[p[1]]*f[p[2]]<>0);\n",
    "    Sort(c,function(e,ee) return distance(f[e[1]],f[e[2]])<distance(f[ee[1]],f[ee[2]]); end);\n",
    "    tv:=Kruskal(f,List(c,p->[f[p[1]],f[p[2]]]));\n",
    "    for p in c do \n",
    "        ln:=Link(fs[p[1]],fs[p[2]]);\n",
    "        #SetWeight(ln, distance(f[p[1]],f[p[2]]));\n",
    "        SetTitle(ln, String(distance(f[p[1]],f[p[2]])));\n",
    "        if [f[p[1]],f[p[2]]] in tv then \n",
    "            SetColor(ln,\"red\");\n",
    "        fi;\n",
    "        Add(graph,ln);\n",
    "    od;\n",
    "    canvas:=Canvas(\"Factorizations graph\");\n",
    "    Add(canvas,graph);\n",
    "    return Draw(canvas);\n",
    "end;"
   ]
  },
  {
   "cell_type": "code",
   "execution_count": 44,
   "metadata": {},
   "outputs": [
    {
     "data": {
      "text/plain": [
       "[ [ 10, 2, 0 ], [ 5, 5, 0 ], [ 0, 8, 0 ], [ 11, 0, 1 ], [ 6, 3, 1 ], [ 1, 6, 1 ], [ 7, 1, 2 ], [ 2, 4, 2 ], [ 3, 2, 3 ], [ 4, 0, 4 ], [ 0, 1, 5 ] ]"
      ]
     },
     "execution_count": 44,
     "metadata": {
      "text/plain": ""
     },
     "output_type": "execute_result"
    }
   ],
   "source": [
    "f:=FactorizationsElementWRTNumericalSemigroup(40,NumericalSemigroup(3,5,7));"
   ]
  },
  {
   "cell_type": "code",
   "execution_count": null,
   "metadata": {},
   "outputs": [],
   "source": []
  }
 ],
 "metadata": {
  "kernelspec": {
   "display_name": "GAP 4",
   "language": "gap",
   "name": "gap-4"
  },
  "language_info": {
   "codemirror_mode": "gap",
   "file_extension": ".g",
   "mimetype": "text/x-gap",
   "name": "GAP 4",
   "nbconvert_exporter": "",
   "pygments_lexer": "gap",
   "version": "4.dev"
  }
 },
 "nbformat": 4,
 "nbformat_minor": 2
}
