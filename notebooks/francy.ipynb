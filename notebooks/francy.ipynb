{
 "cells": [
  {
   "cell_type": "markdown",
   "metadata": {},
   "source": [
    "### Load Francy Package"
   ]
  },
  {
   "cell_type": "code",
   "execution_count": 3,
   "metadata": {},
   "outputs": [
    {
     "data": {
      "text/plain": [
       "true"
      ]
     },
     "execution_count": 1,
     "metadata": {
      "text/plain": ""
     },
     "output_type": "execute_result"
    },
    {
     "data": {
      "text/plain": [
       "true"
      ]
     },
     "execution_count": 2,
     "metadata": {
      "text/plain": ""
     },
     "output_type": "execute_result"
    },
    {
     "data": {
      "text/plain": [
       "true"
      ]
     },
     "execution_count": 3,
     "metadata": {
      "text/plain": ""
     },
     "output_type": "execute_result"
    }
   ],
   "source": [
    "LoadPackage(\"francy\");\n",
    "LoadPackage(\"digraph\");\n",
    "LoadPackage(\"num\");"
   ]
  },
  {
   "cell_type": "markdown",
   "metadata": {},
   "source": [
    "### An attempt to LatticeSubgroups By Markus"
   ]
  },
  {
   "cell_type": "code",
   "execution_count": 8,
   "metadata": {
    "scrolled": false
   },
   "outputs": [
    {
     "data": {
      "application/vnd.francy+json": "{\"version\" : \"1.1.2\",\"mime\" : \"application\\/vnd.francy+json\",\"canvas\" : {\"width\" : 800,\"id\" : \"F1\",\"height\" : 600,\"title\" : \"Lattice Subgroups\",\"zoomToFit\" : true,\"texTypesetting\" : false,\"menus\" : {},\"graph\" : {\"type\" : \"undirected\",\"id\" : \"F2\",\"simulation\" : true,\"collapsed\" : true,\"nodes\" : {\"F3\" : {\"x\" : 0,\"y\" : 0,\"type\" : \"diamond\",\"id\" : \"F3\",\"size\" : 10,\"title\" : \"1\",\"layer\" : -2,\"color\" : \"\",\"parent\" : \"\",\"menus\" : {},\"messages\" : {},\"callbacks\" : {}},\"F4\" : {\"x\" : 0,\"y\" : 0,\"type\" : \"circle\",\"id\" : \"F4\",\"size\" : 10,\"title\" : \"2\",\"layer\" : -4,\"color\" : \"\",\"parent\" : \"\",\"menus\" : {},\"messages\" : {},\"callbacks\" : {}},\"F5\" : {\"x\" : 0,\"y\" : 0,\"type\" : \"circle\",\"id\" : \"F5\",\"size\" : 10,\"title\" : \"2\",\"layer\" : -4,\"color\" : \"\",\"parent\" : \"\",\"menus\" : {},\"messages\" : {},\"callbacks\" : {}},\"F6\" : {\"x\" : 0,\"y\" : 0,\"type\" : \"circle\",\"id\" : \"F6\",\"size\" : 10,\"title\" : \"2\",\"layer\" : -4,\"color\" : \"\",\"parent\" : \"\",\"menus\" : {},\"messages\" : {},\"callbacks\" : {}},\"F7\" : {\"x\" : 0,\"y\" : 0,\"type\" : \"circle\",\"id\" : \"F7\",\"size\" : 10,\"title\" : \"2\",\"layer\" : -4,\"color\" : \"\",\"parent\" : \"\",\"menus\" : {},\"messages\" : {},\"callbacks\" : {}},\"F8\" : {\"x\" : 0,\"y\" : 0,\"type\" : \"circle\",\"id\" : \"F8\",\"size\" : 10,\"title\" : \"2\",\"layer\" : -4,\"color\" : \"\",\"parent\" : \"\",\"menus\" : {},\"messages\" : {},\"callbacks\" : {}},\"F9\" : {\"x\" : 0,\"y\" : 0,\"type\" : \"circle\",\"id\" : \"F9\",\"size\" : 10,\"title\" : \"2\",\"layer\" : -4,\"color\" : \"\",\"parent\" : \"\",\"menus\" : {},\"messages\" : {},\"callbacks\" : {}},\"F10\" : {\"x\" : 0,\"y\" : 0,\"type\" : \"circle\",\"id\" : \"F10\",\"size\" : 10,\"title\" : \"2\",\"layer\" : -4,\"color\" : \"\",\"parent\" : \"\",\"menus\" : {},\"messages\" : {},\"callbacks\" : {}},\"F11\" : {\"x\" : 0,\"y\" : 0,\"type\" : \"circle\",\"id\" : \"F11\",\"size\" : 10,\"title\" : \"2\",\"layer\" : -4,\"color\" : \"\",\"parent\" : \"\",\"menus\" : {},\"messages\" : {},\"callbacks\" : {}},\"F12\" : {\"x\" : 0,\"y\" : 0,\"type\" : \"circle\",\"id\" : \"F12\",\"size\" : 10,\"title\" : \"2\",\"layer\" : -4,\"color\" : \"\",\"parent\" : \"\",\"menus\" : {},\"messages\" : {},\"callbacks\" : {}},\"F13\" : {\"x\" : 0,\"y\" : 0,\"type\" : \"circle\",\"id\" : \"F13\",\"size\" : 10,\"title\" : \"2\",\"layer\" : -4,\"color\" : \"\",\"parent\" : \"\",\"menus\" : {},\"messages\" : {},\"callbacks\" : {}},\"F14\" : {\"x\" : 0,\"y\" : 0,\"type\" : \"circle\",\"id\" : \"F14\",\"size\" : 10,\"title\" : \"2\",\"layer\" : -4,\"color\" : \"\",\"parent\" : \"\",\"menus\" : {},\"messages\" : {},\"callbacks\" : {}},\"F15\" : {\"x\" : 0,\"y\" : 0,\"type\" : \"diamond\",\"id\" : \"F15\",\"size\" : 10,\"title\" : \"3\",\"layer\" : -4,\"color\" : \"\",\"parent\" : \"\",\"menus\" : {},\"messages\" : {},\"callbacks\" : {}},\"F16\" : {\"x\" : 0,\"y\" : 0,\"type\" : \"circle\",\"id\" : \"F16\",\"size\" : 10,\"title\" : \"4\",\"layer\" : -4,\"color\" : \"\",\"parent\" : \"\",\"menus\" : {},\"messages\" : {},\"callbacks\" : {}},\"F17\" : {\"x\" : 0,\"y\" : 0,\"type\" : \"circle\",\"id\" : \"F17\",\"size\" : 10,\"title\" : \"4\",\"layer\" : -4,\"color\" : \"\",\"parent\" : \"\",\"menus\" : {},\"messages\" : {},\"callbacks\" : {}},\"F18\" : {\"x\" : 0,\"y\" : 0,\"type\" : \"circle\",\"id\" : \"F18\",\"size\" : 10,\"title\" : \"4\",\"layer\" : -4,\"color\" : \"\",\"parent\" : \"\",\"menus\" : {},\"messages\" : {},\"callbacks\" : {}},\"F19\" : {\"x\" : 0,\"y\" : 0,\"type\" : \"circle\",\"id\" : \"F19\",\"size\" : 10,\"title\" : \"4\",\"layer\" : -4,\"color\" : \"\",\"parent\" : \"\",\"menus\" : {},\"messages\" : {},\"callbacks\" : {}},\"F20\" : {\"x\" : 0,\"y\" : 0,\"type\" : \"circle\",\"id\" : \"F20\",\"size\" : 10,\"title\" : \"4\",\"layer\" : -4,\"color\" : \"\",\"parent\" : \"\",\"menus\" : {},\"messages\" : {},\"callbacks\" : {}},\"F21\" : {\"x\" : 0,\"y\" : 0,\"type\" : \"circle\",\"id\" : \"F21\",\"size\" : 10,\"title\" : \"4\",\"layer\" : -4,\"color\" : \"\",\"parent\" : \"\",\"menus\" : {},\"messages\" : {},\"callbacks\" : {}},\"F22\" : {\"x\" : 0,\"y\" : 0,\"type\" : \"circle\",\"id\" : \"F22\",\"size\" : 10,\"title\" : \"4\",\"layer\" : -4,\"color\" : \"\",\"parent\" : \"\",\"menus\" : {},\"messages\" : {},\"callbacks\" : {}},\"F23\" : {\"x\" : 0,\"y\" : 0,\"type\" : \"circle\",\"id\" : \"F23\",\"size\" : 10,\"title\" : \"4\",\"layer\" : -4,\"color\" : \"\",\"parent\" : \"\",\"menus\" : {},\"messages\" : {},\"callbacks\" : {}},\"F24\" : {\"x\" : 0,\"y\" : 0,\"type\" : \"circle\",\"id\" : \"F24\",\"size\" : 10,\"title\" : \"4\",\"layer\" : -4,\"color\" : \"\",\"parent\" : \"\",\"menus\" : {},\"messages\" : {},\"callbacks\" : {}},\"F25\" : {\"x\" : 0,\"y\" : 0,\"type\" : \"circle\",\"id\" : \"F25\",\"size\" : 10,\"title\" : \"4\",\"layer\" : -4,\"color\" : \"\",\"parent\" : \"\",\"menus\" : {},\"messages\" : {},\"callbacks\" : {}},\"F26\" : {\"x\" : 0,\"y\" : 0,\"type\" : \"circle\",\"id\" : \"F26\",\"size\" : 10,\"title\" : \"4\",\"layer\" : -4,\"color\" : \"\",\"parent\" : \"\",\"menus\" : {},\"messages\" : {},\"callbacks\" : {}},\"F27\" : {\"x\" : 0,\"y\" : 0,\"type\" : \"circle\",\"id\" : \"F27\",\"size\" : 10,\"title\" : \"5\",\"layer\" : -6,\"color\" : \"\",\"parent\" : \"\",\"menus\" : {},\"messages\" : {},\"callbacks\" : {}},\"F28\" : {\"x\" : 0,\"y\" : 0,\"type\" : \"circle\",\"id\" : \"F28\",\"size\" : 10,\"title\" : \"5\",\"layer\" : -6,\"color\" : \"\",\"parent\" : \"\",\"menus\" : {},\"messages\" : {},\"callbacks\" : {}},\"F29\" : {\"x\" : 0,\"y\" : 0,\"type\" : \"circle\",\"id\" : \"F29\",\"size\" : 10,\"title\" : \"5\",\"layer\" : -6,\"color\" : \"\",\"parent\" : \"\",\"menus\" : {},\"messages\" : {},\"callbacks\" : {}},\"F30\" : {\"x\" : 0,\"y\" : 0,\"type\" : \"circle\",\"id\" : \"F30\",\"size\" : 10,\"title\" : \"5\",\"layer\" : -6,\"color\" : \"\",\"parent\" : \"\",\"menus\" : {},\"messages\" : {},\"callbacks\" : {}},\"F31\" : {\"x\" : 0,\"y\" : 0,\"type\" : \"circle\",\"id\" : \"F31\",\"size\" : 10,\"title\" : \"5\",\"layer\" : -6,\"color\" : \"\",\"parent\" : \"\",\"menus\" : {},\"messages\" : {},\"callbacks\" : {}},\"F32\" : {\"x\" : 0,\"y\" : 0,\"type\" : \"circle\",\"id\" : \"F32\",\"size\" : 10,\"title\" : \"5\",\"layer\" : -6,\"color\" : \"\",\"parent\" : \"\",\"menus\" : {},\"messages\" : {},\"callbacks\" : {}},\"F33\" : {\"x\" : 0,\"y\" : 0,\"type\" : \"circle\",\"id\" : \"F33\",\"size\" : 10,\"title\" : \"5\",\"layer\" : -6,\"color\" : \"\",\"parent\" : \"\",\"menus\" : {},\"messages\" : {},\"callbacks\" : {}},\"F34\" : {\"x\" : 0,\"y\" : 0,\"type\" : \"circle\",\"id\" : \"F34\",\"size\" : 10,\"title\" : \"5\",\"layer\" : -6,\"color\" : \"\",\"parent\" : \"\",\"menus\" : {},\"messages\" : {},\"callbacks\" : {}},\"F35\" : {\"x\" : 0,\"y\" : 0,\"type\" : \"circle\",\"id\" : \"F35\",\"size\" : 10,\"title\" : \"5\",\"layer\" : -6,\"color\" : \"\",\"parent\" : \"\",\"menus\" : {},\"messages\" : {},\"callbacks\" : {}},\"F36\" : {\"x\" : 0,\"y\" : 0,\"type\" : \"circle\",\"id\" : \"F36\",\"size\" : 10,\"title\" : \"5\",\"layer\" : -6,\"color\" : \"\",\"parent\" : \"\",\"menus\" : {},\"messages\" : {},\"callbacks\" : {}},\"F37\" : {\"x\" : 0,\"y\" : 0,\"type\" : \"circle\",\"id\" : \"F37\",\"size\" : 10,\"title\" : \"5\",\"layer\" : -6,\"color\" : \"\",\"parent\" : \"\",\"menus\" : {},\"messages\" : {},\"callbacks\" : {}},\"F38\" : {\"x\" : 0,\"y\" : 0,\"type\" : \"diamond\",\"id\" : \"F38\",\"size\" : 10,\"title\" : \"6\",\"layer\" : -8,\"color\" : \"\",\"parent\" : \"\",\"menus\" : {},\"messages\" : {},\"callbacks\" : {}},\"F39\" : {\"x\" : 0,\"y\" : 0,\"type\" : \"diamond\",\"id\" : \"F39\",\"size\" : 10,\"title\" : \"7\",\"layer\" : -10,\"color\" : \"\",\"parent\" : \"\",\"menus\" : {},\"messages\" : {},\"callbacks\" : {}},\"F40\" : {\"x\" : 0,\"y\" : 0,\"type\" : \"diamond\",\"id\" : \"F40\",\"size\" : 10,\"title\" : \"8\",\"layer\" : -10,\"color\" : \"\",\"parent\" : \"\",\"menus\" : {},\"messages\" : {},\"callbacks\" : {}},\"F41\" : {\"x\" : 0,\"y\" : 0,\"type\" : \"diamond\",\"id\" : \"F41\",\"size\" : 10,\"title\" : \"9\",\"layer\" : -10,\"color\" : \"\",\"parent\" : \"\",\"menus\" : {},\"messages\" : {},\"callbacks\" : {}},\"F42\" : {\"x\" : 0,\"y\" : 0,\"type\" : \"diamond\",\"id\" : \"F42\",\"size\" : 10,\"title\" : \"10\",\"layer\" : -12,\"color\" : \"\",\"parent\" : \"\",\"menus\" : {},\"messages\" : {},\"callbacks\" : {}}},\"links\" : {\"F43\" : {\"id\" : \"F43\",\"source\" : \"F4\",\"length\" : 0,\"weight\" : 0,\"target\" : \"F3\",\"color\" : \"\",\"invisible\" : false},\"F44\" : {\"id\" : \"F44\",\"source\" : \"F5\",\"length\" : 0,\"weight\" : 0,\"target\" : \"F3\",\"color\" : \"\",\"invisible\" : false},\"F45\" : {\"id\" : \"F45\",\"source\" : \"F6\",\"length\" : 0,\"weight\" : 0,\"target\" : \"F3\",\"color\" : \"\",\"invisible\" : false},\"F46\" : {\"id\" : \"F46\",\"source\" : \"F7\",\"length\" : 0,\"weight\" : 0,\"target\" : \"F3\",\"color\" : \"\",\"invisible\" : false},\"F47\" : {\"id\" : \"F47\",\"source\" : \"F8\",\"length\" : 0,\"weight\" : 0,\"target\" : \"F3\",\"color\" : \"\",\"invisible\" : false},\"F48\" : {\"id\" : \"F48\",\"source\" : \"F9\",\"length\" : 0,\"weight\" : 0,\"target\" : \"F3\",\"color\" : \"\",\"invisible\" : false},\"F49\" : {\"id\" : \"F49\",\"source\" : \"F10\",\"length\" : 0,\"weight\" : 0,\"target\" : \"F3\",\"color\" : \"\",\"invisible\" : false},\"F50\" : {\"id\" : \"F50\",\"source\" : \"F11\",\"length\" : 0,\"weight\" : 0,\"target\" : \"F3\",\"color\" : \"\",\"invisible\" : false},\"F51\" : {\"id\" : \"F51\",\"source\" : \"F12\",\"length\" : 0,\"weight\" : 0,\"target\" : \"F3\",\"color\" : \"\",\"invisible\" : false},\"F52\" : {\"id\" : \"F52\",\"source\" : \"F13\",\"length\" : 0,\"weight\" : 0,\"target\" : \"F3\",\"color\" : \"\",\"invisible\" : false},\"F53\" : {\"id\" : \"F53\",\"source\" : \"F14\",\"length\" : 0,\"weight\" : 0,\"target\" : \"F3\",\"color\" : \"\",\"invisible\" : false},\"F54\" : {\"id\" : \"F54\",\"source\" : \"F15\",\"length\" : 0,\"weight\" : 0,\"target\" : \"F3\",\"color\" : \"\",\"invisible\" : false},\"F55\" : {\"id\" : \"F55\",\"source\" : \"F16\",\"length\" : 0,\"weight\" : 0,\"target\" : \"F3\",\"color\" : \"\",\"invisible\" : false},\"F56\" : {\"id\" : \"F56\",\"source\" : \"F17\",\"length\" : 0,\"weight\" : 0,\"target\" : \"F3\",\"color\" : \"\",\"invisible\" : false},\"F57\" : {\"id\" : \"F57\",\"source\" : \"F18\",\"length\" : 0,\"weight\" : 0,\"target\" : \"F3\",\"color\" : \"\",\"invisible\" : false},\"F58\" : {\"id\" : \"F58\",\"source\" : \"F19\",\"length\" : 0,\"weight\" : 0,\"target\" : \"F3\",\"color\" : \"\",\"invisible\" : false},\"F59\" : {\"id\" : \"F59\",\"source\" : \"F20\",\"length\" : 0,\"weight\" : 0,\"target\" : \"F3\",\"color\" : \"\",\"invisible\" : false},\"F60\" : {\"id\" : \"F60\",\"source\" : \"F21\",\"length\" : 0,\"weight\" : 0,\"target\" : \"F3\",\"color\" : \"\",\"invisible\" : false},\"F61\" : {\"id\" : \"F61\",\"source\" : \"F22\",\"length\" : 0,\"weight\" : 0,\"target\" : \"F3\",\"color\" : \"\",\"invisible\" : false},\"F62\" : {\"id\" : \"F62\",\"source\" : \"F23\",\"length\" : 0,\"weight\" : 0,\"target\" : \"F3\",\"color\" : \"\",\"invisible\" : false},\"F63\" : {\"id\" : \"F63\",\"source\" : \"F24\",\"length\" : 0,\"weight\" : 0,\"target\" : \"F3\",\"color\" : \"\",\"invisible\" : false},\"F64\" : {\"id\" : \"F64\",\"source\" : \"F25\",\"length\" : 0,\"weight\" : 0,\"target\" : \"F3\",\"color\" : \"\",\"invisible\" : false},\"F65\" : {\"id\" : \"F65\",\"source\" : \"F26\",\"length\" : 0,\"weight\" : 0,\"target\" : \"F3\",\"color\" : \"\",\"invisible\" : false},\"F66\" : {\"id\" : \"F66\",\"source\" : \"F27\",\"length\" : 0,\"weight\" : 0,\"target\" : \"F24\",\"color\" : \"\",\"invisible\" : false},\"F67\" : {\"id\" : \"F67\",\"source\" : \"F28\",\"length\" : 0,\"weight\" : 0,\"target\" : \"F25\",\"color\" : \"\",\"invisible\" : false},\"F68\" : {\"id\" : \"F68\",\"source\" : \"F29\",\"length\" : 0,\"weight\" : 0,\"target\" : \"F26\",\"color\" : \"\",\"invisible\" : false},\"F69\" : {\"id\" : \"F69\",\"source\" : \"F30\",\"length\" : 0,\"weight\" : 0,\"target\" : \"F16\",\"color\" : \"\",\"invisible\" : false},\"F70\" : {\"id\" : \"F70\",\"source\" : \"F31\",\"length\" : 0,\"weight\" : 0,\"target\" : \"F17\",\"color\" : \"\",\"invisible\" : false},\"F71\" : {\"id\" : \"F71\",\"source\" : \"F32\",\"length\" : 0,\"weight\" : 0,\"target\" : \"F18\",\"color\" : \"\",\"invisible\" : false},\"F72\" : {\"id\" : \"F72\",\"source\" : \"F33\",\"length\" : 0,\"weight\" : 0,\"target\" : \"F19\",\"color\" : \"\",\"invisible\" : false},\"F73\" : {\"id\" : \"F73\",\"source\" : \"F34\",\"length\" : 0,\"weight\" : 0,\"target\" : \"F20\",\"color\" : \"\",\"invisible\" : false},\"F74\" : {\"id\" : \"F74\",\"source\" : \"F35\",\"length\" : 0,\"weight\" : 0,\"target\" : \"F21\",\"color\" : \"\",\"invisible\" : false},\"F75\" : {\"id\" : \"F75\",\"source\" : \"F36\",\"length\" : 0,\"weight\" : 0,\"target\" : \"F22\",\"color\" : \"\",\"invisible\" : false},\"F76\" : {\"id\" : \"F76\",\"source\" : \"F37\",\"length\" : 0,\"weight\" : 0,\"target\" : \"F23\",\"color\" : \"\",\"invisible\" : false},\"F77\" : {\"id\" : \"F77\",\"source\" : \"F27\",\"length\" : 0,\"weight\" : 0,\"target\" : \"F15\",\"color\" : \"\",\"invisible\" : false},\"F78\" : {\"id\" : \"F78\",\"source\" : \"F28\",\"length\" : 0,\"weight\" : 0,\"target\" : \"F15\",\"color\" : \"\",\"invisible\" : false},\"F79\" : {\"id\" : \"F79\",\"source\" : \"F29\",\"length\" : 0,\"weight\" : 0,\"target\" : \"F15\",\"color\" : \"\",\"invisible\" : false},\"F80\" : {\"id\" : \"F80\",\"source\" : \"F30\",\"length\" : 0,\"weight\" : 0,\"target\" : \"F15\",\"color\" : \"\",\"invisible\" : false},\"F81\" : {\"id\" : \"F81\",\"source\" : \"F31\",\"length\" : 0,\"weight\" : 0,\"target\" : \"F15\",\"color\" : \"\",\"invisible\" : false},\"F82\" : {\"id\" : \"F82\",\"source\" : \"F32\",\"length\" : 0,\"weight\" : 0,\"target\" : \"F15\",\"color\" : \"\",\"invisible\" : false},\"F83\" : {\"id\" : \"F83\",\"source\" : \"F33\",\"length\" : 0,\"weight\" : 0,\"target\" : \"F15\",\"color\" : \"\",\"invisible\" : false},\"F84\" : {\"id\" : \"F84\",\"source\" : \"F34\",\"length\" : 0,\"weight\" : 0,\"target\" : \"F15\",\"color\" : \"\",\"invisible\" : false},\"F85\" : {\"id\" : \"F85\",\"source\" : \"F35\",\"length\" : 0,\"weight\" : 0,\"target\" : \"F15\",\"color\" : \"\",\"invisible\" : false},\"F86\" : {\"id\" : \"F86\",\"source\" : \"F36\",\"length\" : 0,\"weight\" : 0,\"target\" : \"F15\",\"color\" : \"\",\"invisible\" : false},\"F87\" : {\"id\" : \"F87\",\"source\" : \"F37\",\"length\" : 0,\"weight\" : 0,\"target\" : \"F15\",\"color\" : \"\",\"invisible\" : false},\"F88\" : {\"id\" : \"F88\",\"source\" : \"F27\",\"length\" : 0,\"weight\" : 0,\"target\" : \"F4\",\"color\" : \"\",\"invisible\" : false},\"F89\" : {\"id\" : \"F89\",\"source\" : \"F28\",\"length\" : 0,\"weight\" : 0,\"target\" : \"F5\",\"color\" : \"\",\"invisible\" : false},\"F90\" : {\"id\" : \"F90\",\"source\" : \"F29\",\"length\" : 0,\"weight\" : 0,\"target\" : \"F6\",\"color\" : \"\",\"invisible\" : false},\"F91\" : {\"id\" : \"F91\",\"source\" : \"F30\",\"length\" : 0,\"weight\" : 0,\"target\" : \"F7\",\"color\" : \"\",\"invisible\" : false},\"F92\" : {\"id\" : \"F92\",\"source\" : \"F31\",\"length\" : 0,\"weight\" : 0,\"target\" : \"F8\",\"color\" : \"\",\"invisible\" : false},\"F93\" : {\"id\" : \"F93\",\"source\" : \"F32\",\"length\" : 0,\"weight\" : 0,\"target\" : \"F9\",\"color\" : \"\",\"invisible\" : false},\"F94\" : {\"id\" : \"F94\",\"source\" : \"F33\",\"length\" : 0,\"weight\" : 0,\"target\" : \"F10\",\"color\" : \"\",\"invisible\" : false},\"F95\" : {\"id\" : \"F95\",\"source\" : \"F34\",\"length\" : 0,\"weight\" : 0,\"target\" : \"F11\",\"color\" : \"\",\"invisible\" : false},\"F96\" : {\"id\" : \"F96\",\"source\" : \"F35\",\"length\" : 0,\"weight\" : 0,\"target\" : \"F12\",\"color\" : \"\",\"invisible\" : false},\"F97\" : {\"id\" : \"F97\",\"source\" : \"F36\",\"length\" : 0,\"weight\" : 0,\"target\" : \"F13\",\"color\" : \"\",\"invisible\" : false},\"F98\" : {\"id\" : \"F98\",\"source\" : \"F37\",\"length\" : 0,\"weight\" : 0,\"target\" : \"F14\",\"color\" : \"\",\"invisible\" : false},\"F99\" : {\"id\" : \"F99\",\"source\" : \"F38\",\"length\" : 0,\"weight\" : 0,\"target\" : \"F3\",\"color\" : \"\",\"invisible\" : false},\"F100\" : {\"id\" : \"F100\",\"source\" : \"F39\",\"length\" : 0,\"weight\" : 0,\"target\" : \"F38\",\"color\" : \"\",\"invisible\" : false},\"F101\" : {\"id\" : \"F101\",\"source\" : \"F39\",\"length\" : 0,\"weight\" : 0,\"target\" : \"F4\",\"color\" : \"\",\"invisible\" : false},\"F102\" : {\"id\" : \"F102\",\"source\" : \"F39\",\"length\" : 0,\"weight\" : 0,\"target\" : \"F5\",\"color\" : \"\",\"invisible\" : false},\"F103\" : {\"id\" : \"F103\",\"source\" : \"F39\",\"length\" : 0,\"weight\" : 0,\"target\" : \"F6\",\"color\" : \"\",\"invisible\" : false},\"F104\" : {\"id\" : \"F104\",\"source\" : \"F39\",\"length\" : 0,\"weight\" : 0,\"target\" : \"F7\",\"color\" : \"\",\"invisible\" : false},\"F105\" : {\"id\" : \"F105\",\"source\" : \"F39\",\"length\" : 0,\"weight\" : 0,\"target\" : \"F8\",\"color\" : \"\",\"invisible\" : false},\"F106\" : {\"id\" : \"F106\",\"source\" : \"F39\",\"length\" : 0,\"weight\" : 0,\"target\" : \"F9\",\"color\" : \"\",\"invisible\" : false},\"F107\" : {\"id\" : \"F107\",\"source\" : \"F39\",\"length\" : 0,\"weight\" : 0,\"target\" : \"F10\",\"color\" : \"\",\"invisible\" : false},\"F108\" : {\"id\" : \"F108\",\"source\" : \"F39\",\"length\" : 0,\"weight\" : 0,\"target\" : \"F11\",\"color\" : \"\",\"invisible\" : false},\"F109\" : {\"id\" : \"F109\",\"source\" : \"F39\",\"length\" : 0,\"weight\" : 0,\"target\" : \"F12\",\"color\" : \"\",\"invisible\" : false},\"F110\" : {\"id\" : \"F110\",\"source\" : \"F39\",\"length\" : 0,\"weight\" : 0,\"target\" : \"F13\",\"color\" : \"\",\"invisible\" : false},\"F111\" : {\"id\" : \"F111\",\"source\" : \"F39\",\"length\" : 0,\"weight\" : 0,\"target\" : \"F14\",\"color\" : \"\",\"invisible\" : false},\"F112\" : {\"id\" : \"F112\",\"source\" : \"F40\",\"length\" : 0,\"weight\" : 0,\"target\" : \"F38\",\"color\" : \"\",\"invisible\" : false},\"F113\" : {\"id\" : \"F113\",\"source\" : \"F40\",\"length\" : 0,\"weight\" : 0,\"target\" : \"F15\",\"color\" : \"\",\"invisible\" : false},\"F114\" : {\"id\" : \"F114\",\"source\" : \"F41\",\"length\" : 0,\"weight\" : 0,\"target\" : \"F38\",\"color\" : \"\",\"invisible\" : false},\"F115\" : {\"id\" : \"F115\",\"source\" : \"F41\",\"length\" : 0,\"weight\" : 0,\"target\" : \"F16\",\"color\" : \"\",\"invisible\" : false},\"F116\" : {\"id\" : \"F116\",\"source\" : \"F41\",\"length\" : 0,\"weight\" : 0,\"target\" : \"F17\",\"color\" : \"\",\"invisible\" : false},\"F117\" : {\"id\" : \"F117\",\"source\" : \"F41\",\"length\" : 0,\"weight\" : 0,\"target\" : \"F18\",\"color\" : \"\",\"invisible\" : false},\"F118\" : {\"id\" : \"F118\",\"source\" : \"F41\",\"length\" : 0,\"weight\" : 0,\"target\" : \"F19\",\"color\" : \"\",\"invisible\" : false},\"F119\" : {\"id\" : \"F119\",\"source\" : \"F41\",\"length\" : 0,\"weight\" : 0,\"target\" : \"F20\",\"color\" : \"\",\"invisible\" : false},\"F120\" : {\"id\" : \"F120\",\"source\" : \"F41\",\"length\" : 0,\"weight\" : 0,\"target\" : \"F21\",\"color\" : \"\",\"invisible\" : false},\"F121\" : {\"id\" : \"F121\",\"source\" : \"F41\",\"length\" : 0,\"weight\" : 0,\"target\" : \"F22\",\"color\" : \"\",\"invisible\" : false},\"F122\" : {\"id\" : \"F122\",\"source\" : \"F41\",\"length\" : 0,\"weight\" : 0,\"target\" : \"F23\",\"color\" : \"\",\"invisible\" : false},\"F123\" : {\"id\" : \"F123\",\"source\" : \"F41\",\"length\" : 0,\"weight\" : 0,\"target\" : \"F24\",\"color\" : \"\",\"invisible\" : false},\"F124\" : {\"id\" : \"F124\",\"source\" : \"F41\",\"length\" : 0,\"weight\" : 0,\"target\" : \"F25\",\"color\" : \"\",\"invisible\" : false},\"F125\" : {\"id\" : \"F125\",\"source\" : \"F41\",\"length\" : 0,\"weight\" : 0,\"target\" : \"F26\",\"color\" : \"\",\"invisible\" : false},\"F126\" : {\"id\" : \"F126\",\"source\" : \"F42\",\"length\" : 0,\"weight\" : 0,\"target\" : \"F41\",\"color\" : \"\",\"invisible\" : false},\"F127\" : {\"id\" : \"F127\",\"source\" : \"F42\",\"length\" : 0,\"weight\" : 0,\"target\" : \"F40\",\"color\" : \"\",\"invisible\" : false},\"F128\" : {\"id\" : \"F128\",\"source\" : \"F42\",\"length\" : 0,\"weight\" : 0,\"target\" : \"F39\",\"color\" : \"\",\"invisible\" : false},\"F129\" : {\"id\" : \"F129\",\"source\" : \"F42\",\"length\" : 0,\"weight\" : 0,\"target\" : \"F27\",\"color\" : \"\",\"invisible\" : false},\"F130\" : {\"id\" : \"F130\",\"source\" : \"F42\",\"length\" : 0,\"weight\" : 0,\"target\" : \"F28\",\"color\" : \"\",\"invisible\" : false},\"F131\" : {\"id\" : \"F131\",\"source\" : \"F42\",\"length\" : 0,\"weight\" : 0,\"target\" : \"F29\",\"color\" : \"\",\"invisible\" : false},\"F132\" : {\"id\" : \"F132\",\"source\" : \"F42\",\"length\" : 0,\"weight\" : 0,\"target\" : \"F30\",\"color\" : \"\",\"invisible\" : false},\"F133\" : {\"id\" : \"F133\",\"source\" : \"F42\",\"length\" : 0,\"weight\" : 0,\"target\" : \"F31\",\"color\" : \"\",\"invisible\" : false},\"F134\" : {\"id\" : \"F134\",\"source\" : \"F42\",\"length\" : 0,\"weight\" : 0,\"target\" : \"F32\",\"color\" : \"\",\"invisible\" : false},\"F135\" : {\"id\" : \"F135\",\"source\" : \"F42\",\"length\" : 0,\"weight\" : 0,\"target\" : \"F33\",\"color\" : \"\",\"invisible\" : false},\"F136\" : {\"id\" : \"F136\",\"source\" : \"F42\",\"length\" : 0,\"weight\" : 0,\"target\" : \"F34\",\"color\" : \"\",\"invisible\" : false},\"F137\" : {\"id\" : \"F137\",\"source\" : \"F42\",\"length\" : 0,\"weight\" : 0,\"target\" : \"F35\",\"color\" : \"\",\"invisible\" : false},\"F138\" : {\"id\" : \"F138\",\"source\" : \"F42\",\"length\" : 0,\"weight\" : 0,\"target\" : \"F36\",\"color\" : \"\",\"invisible\" : false},\"F139\" : {\"id\" : \"F139\",\"source\" : \"F42\",\"length\" : 0,\"weight\" : 0,\"target\" : \"F37\",\"color\" : \"\",\"invisible\" : false}}},\"messages\" : {}}}"
     },
     "execution_count": 8,
     "metadata": {
      "application/vnd.francy+json": {}
     },
     "output_type": "execute_result"
    }
   ],
   "source": [
    "DisplayLatticeSubgroups := function(L)\n",
    "    local cls, len, sz, max, rep, z, t, i, j, k, graphHasse, nodes, last;\n",
    "    cls:=ConjugacyClassesSubgroups(L);\n",
    "    len:=[];\n",
    "    sz:=[];\n",
    "    for i in cls do\n",
    "        Add(len,Size(i));\n",
    "        AddSet(sz,Size(Representative(i)));\n",
    "    od;\n",
    "\n",
    "    graphHasse := Graph(GraphType.UNDIRECTED);\n",
    "#SetShowNeighbours(graphHasse,true);\n",
    "\n",
    "    nodes := [];\n",
    "    sz:=Reversed(sz);\n",
    "    # subgroup nodes, also acccording to size\n",
    "    for i in [1..Length(cls)] do\n",
    "        nodes[i] := [];\n",
    "        for j in [1..len[i]] do\n",
    "            if len[i]=1 then\n",
    "                nodes[i][j] := Shape(ShapeType.DIAMOND, String(i));\n",
    "                SetLayer(nodes[i][j], -Size(Representative(cls[i])));\n",
    "                # AppendTo(file,\"\\\"\",i,\"x\",j,\"\\\" [label=\\\"\",i,\"\\\", shape=box];\\n\");\n",
    "            else\n",
    "                nodes[i][j] := Shape(ShapeType.CIRCLE, String(i));\n",
    "                SetLayer(nodes[i][j], -Size(Representative(cls[i])));\n",
    "                # AppendTo(file,\"\\\"\",i,\"x\",j,\"\\\" [label=\\\"\",i,\"-\",j,\"\\\", shape=circle];\\n\");\n",
    "            fi;\n",
    "            Add(graphHasse, nodes[i][j]);\n",
    "        od;\n",
    "    od;\n",
    "\n",
    "    last:=rec(o:=0,n:=0);\n",
    "    for i in [1..Length(cls)] do\n",
    "        for j in [1..len[i]] do\n",
    "            if Layer(nodes[i][j]) <> last.o then\n",
    "                last.o := Layer(nodes[i][j]);\n",
    "                last.n := last.n - 2;\n",
    "            fi;\n",
    "            SetLayer(nodes[i][j], last.n);\n",
    "        od;\n",
    "    od;\n",
    "\n",
    "    max:=MaximalSubgroupsLattice(L);\n",
    "    for i in [1..Length(cls)] do\n",
    "        for j in max[i] do\n",
    "            rep:=ClassElementLattice(cls[i],1);\n",
    "            for k in [1..len[i]] do\n",
    "                if k=1 then\n",
    "                    z:=j[2];\n",
    "                else\n",
    "                    t:=cls[i]!.normalizerTransversal[k];\n",
    "                    z:=ClassElementLattice(cls[j[1]],1); # force computation of transv.\n",
    "                    z:=cls[j[1]]!.normalizerTransversal[j[2]]*t;\n",
    "                    z:=PositionCanonical(cls[j[1]]!.normalizerTransversal,z);\n",
    "                fi;\n",
    "                Add(graphHasse, Link(nodes[i][k],nodes[j[1]][z]));\n",
    "          od;\n",
    "        od;\n",
    "      od;\n",
    "    return graphHasse;\n",
    "end;;\n",
    "L:=LatticeSubgroups(DihedralGroup(44));;\n",
    "canvas := Canvas(\"Lattice Subgroups\");;\n",
    "Add(canvas, DisplayLatticeSubgroups(L));;\n",
    "Draw(canvas);"
   ]
  },
  {
   "cell_type": "markdown",
   "metadata": {},
   "source": [
    "## Digraphs"
   ]
  },
  {
   "cell_type": "code",
   "execution_count": 22,
   "metadata": {},
   "outputs": [
    {
     "data": {
      "application/vnd.francy+json": "{\"version\" : \"1.1.2\",\"mime\" : \"application\\/vnd.francy+json\",\"canvas\" : {\"width\" : 800,\"id\" : \"F206\",\"height\" : 600,\"title\" : \"Subgroups Digraph of Group( [ f1, f2, f3 ] )\",\"zoomToFit\" : true,\"texTypesetting\" : false,\"menus\" : {},\"graph\" : {\"type\" : \"directed\",\"id\" : \"F140\",\"simulation\" : true,\"collapsed\" : true,\"nodes\" : {\"F142\" : {\"x\" : 0,\"y\" : 0,\"type\" : \"circle\",\"id\" : \"F142\",\"size\" : 10,\"title\" : \"1\",\"layer\" : 0,\"color\" : \"\",\"parent\" : \"\",\"menus\" : {\"F144\" : {\"id\" : \"F144\",\"title\" : \"Is this subgroup simple?\",\"callback\" : {\"func\" : \"IsGroupSimple\",\"id\" : \"F143\",\"trigger\" : \"click\",\"knownArgs\" : [\"1\"],\"requiredArgs\" : {}},\"menus\" : {}}},\"messages\" : {},\"callbacks\" : {}},\"F145\" : {\"x\" : 0,\"y\" : 0,\"type\" : \"circle\",\"id\" : \"F145\",\"size\" : 10,\"title\" : \"2\",\"layer\" : 0,\"color\" : \"\",\"parent\" : \"\",\"menus\" : {\"F147\" : {\"id\" : \"F147\",\"title\" : \"Is this subgroup simple?\",\"callback\" : {\"func\" : \"IsGroupSimple\",\"id\" : \"F146\",\"trigger\" : \"click\",\"knownArgs\" : [\"2\"],\"requiredArgs\" : {}},\"menus\" : {}}},\"messages\" : {},\"callbacks\" : {}},\"F148\" : {\"x\" : 0,\"y\" : 0,\"type\" : \"circle\",\"id\" : \"F148\",\"size\" : 10,\"title\" : \"3\",\"layer\" : 0,\"color\" : \"\",\"parent\" : \"\",\"menus\" : {\"F150\" : {\"id\" : \"F150\",\"title\" : \"Is this subgroup simple?\",\"callback\" : {\"func\" : \"IsGroupSimple\",\"id\" : \"F149\",\"trigger\" : \"click\",\"knownArgs\" : [\"3\"],\"requiredArgs\" : {}},\"menus\" : {}}},\"messages\" : {},\"callbacks\" : {}},\"F151\" : {\"x\" : 0,\"y\" : 0,\"type\" : \"circle\",\"id\" : \"F151\",\"size\" : 10,\"title\" : \"4\",\"layer\" : 0,\"color\" : \"\",\"parent\" : \"\",\"menus\" : {\"F153\" : {\"id\" : \"F153\",\"title\" : \"Is this subgroup simple?\",\"callback\" : {\"func\" : \"IsGroupSimple\",\"id\" : \"F152\",\"trigger\" : \"click\",\"knownArgs\" : [\"4\"],\"requiredArgs\" : {}},\"menus\" : {}}},\"messages\" : {},\"callbacks\" : {}},\"F154\" : {\"x\" : 0,\"y\" : 0,\"type\" : \"circle\",\"id\" : \"F154\",\"size\" : 10,\"title\" : \"5\",\"layer\" : 0,\"color\" : \"\",\"parent\" : \"\",\"menus\" : {\"F156\" : {\"id\" : \"F156\",\"title\" : \"Is this subgroup simple?\",\"callback\" : {\"func\" : \"IsGroupSimple\",\"id\" : \"F155\",\"trigger\" : \"click\",\"knownArgs\" : [\"5\"],\"requiredArgs\" : {}},\"menus\" : {}}},\"messages\" : {},\"callbacks\" : {}},\"F157\" : {\"x\" : 0,\"y\" : 0,\"type\" : \"circle\",\"id\" : \"F157\",\"size\" : 10,\"title\" : \"6\",\"layer\" : 0,\"color\" : \"\",\"parent\" : \"\",\"menus\" : {\"F159\" : {\"id\" : \"F159\",\"title\" : \"Is this subgroup simple?\",\"callback\" : {\"func\" : \"IsGroupSimple\",\"id\" : \"F158\",\"trigger\" : \"click\",\"knownArgs\" : [\"6\"],\"requiredArgs\" : {}},\"menus\" : {}}},\"messages\" : {},\"callbacks\" : {}},\"F160\" : {\"x\" : 0,\"y\" : 0,\"type\" : \"circle\",\"id\" : \"F160\",\"size\" : 10,\"title\" : \"7\",\"layer\" : 0,\"color\" : \"\",\"parent\" : \"\",\"menus\" : {\"F162\" : {\"id\" : \"F162\",\"title\" : \"Is this subgroup simple?\",\"callback\" : {\"func\" : \"IsGroupSimple\",\"id\" : \"F161\",\"trigger\" : \"click\",\"knownArgs\" : [\"7\"],\"requiredArgs\" : {}},\"menus\" : {}}},\"messages\" : {},\"callbacks\" : {}},\"F163\" : {\"x\" : 0,\"y\" : 0,\"type\" : \"circle\",\"id\" : \"F163\",\"size\" : 10,\"title\" : \"8\",\"layer\" : 0,\"color\" : \"\",\"parent\" : \"\",\"menus\" : {\"F165\" : {\"id\" : \"F165\",\"title\" : \"Is this subgroup simple?\",\"callback\" : {\"func\" : \"IsGroupSimple\",\"id\" : \"F164\",\"trigger\" : \"click\",\"knownArgs\" : [\"8\"],\"requiredArgs\" : {}},\"menus\" : {}}},\"messages\" : {},\"callbacks\" : {}},\"F166\" : {\"x\" : 0,\"y\" : 0,\"type\" : \"circle\",\"id\" : \"F166\",\"size\" : 10,\"title\" : \"9\",\"layer\" : 0,\"color\" : \"\",\"parent\" : \"\",\"menus\" : {\"F168\" : {\"id\" : \"F168\",\"title\" : \"Is this subgroup simple?\",\"callback\" : {\"func\" : \"IsGroupSimple\",\"id\" : \"F167\",\"trigger\" : \"click\",\"knownArgs\" : [\"9\"],\"requiredArgs\" : {}},\"menus\" : {}}},\"messages\" : {},\"callbacks\" : {}},\"F169\" : {\"x\" : 0,\"y\" : 0,\"type\" : \"circle\",\"id\" : \"F169\",\"size\" : 10,\"title\" : \"10\",\"layer\" : 0,\"color\" : \"\",\"parent\" : \"\",\"menus\" : {\"F171\" : {\"id\" : \"F171\",\"title\" : \"Is this subgroup simple?\",\"callback\" : {\"func\" : \"IsGroupSimple\",\"id\" : \"F170\",\"trigger\" : \"click\",\"knownArgs\" : [\"10\"],\"requiredArgs\" : {}},\"menus\" : {}}},\"messages\" : {},\"callbacks\" : {}}},\"links\" : {\"F172\" : {\"id\" : \"F172\",\"source\" : \"F142\",\"length\" : 0,\"weight\" : 0,\"target\" : \"F142\",\"color\" : \"\",\"invisible\" : false},\"F173\" : {\"id\" : \"F173\",\"source\" : \"F145\",\"length\" : 0,\"weight\" : 0,\"target\" : \"F142\",\"color\" : \"\",\"invisible\" : false},\"F174\" : {\"id\" : \"F174\",\"source\" : \"F145\",\"length\" : 0,\"weight\" : 0,\"target\" : \"F145\",\"color\" : \"\",\"invisible\" : false},\"F175\" : {\"id\" : \"F175\",\"source\" : \"F148\",\"length\" : 0,\"weight\" : 0,\"target\" : \"F142\",\"color\" : \"\",\"invisible\" : false},\"F176\" : {\"id\" : \"F176\",\"source\" : \"F148\",\"length\" : 0,\"weight\" : 0,\"target\" : \"F148\",\"color\" : \"\",\"invisible\" : false},\"F177\" : {\"id\" : \"F177\",\"source\" : \"F151\",\"length\" : 0,\"weight\" : 0,\"target\" : \"F142\",\"color\" : \"\",\"invisible\" : false},\"F178\" : {\"id\" : \"F178\",\"source\" : \"F151\",\"length\" : 0,\"weight\" : 0,\"target\" : \"F151\",\"color\" : \"\",\"invisible\" : false},\"F179\" : {\"id\" : \"F179\",\"source\" : \"F154\",\"length\" : 0,\"weight\" : 0,\"target\" : \"F142\",\"color\" : \"\",\"invisible\" : false},\"F180\" : {\"id\" : \"F180\",\"source\" : \"F154\",\"length\" : 0,\"weight\" : 0,\"target\" : \"F154\",\"color\" : \"\",\"invisible\" : false},\"F181\" : {\"id\" : \"F181\",\"source\" : \"F157\",\"length\" : 0,\"weight\" : 0,\"target\" : \"F142\",\"color\" : \"\",\"invisible\" : false},\"F182\" : {\"id\" : \"F182\",\"source\" : \"F157\",\"length\" : 0,\"weight\" : 0,\"target\" : \"F157\",\"color\" : \"\",\"invisible\" : false},\"F183\" : {\"id\" : \"F183\",\"source\" : \"F160\",\"length\" : 0,\"weight\" : 0,\"target\" : \"F142\",\"color\" : \"\",\"invisible\" : false},\"F184\" : {\"id\" : \"F184\",\"source\" : \"F160\",\"length\" : 0,\"weight\" : 0,\"target\" : \"F145\",\"color\" : \"\",\"invisible\" : false},\"F185\" : {\"id\" : \"F185\",\"source\" : \"F160\",\"length\" : 0,\"weight\" : 0,\"target\" : \"F148\",\"color\" : \"\",\"invisible\" : false},\"F186\" : {\"id\" : \"F186\",\"source\" : \"F160\",\"length\" : 0,\"weight\" : 0,\"target\" : \"F151\",\"color\" : \"\",\"invisible\" : false},\"F187\" : {\"id\" : \"F187\",\"source\" : \"F160\",\"length\" : 0,\"weight\" : 0,\"target\" : \"F160\",\"color\" : \"\",\"invisible\" : false},\"F188\" : {\"id\" : \"F188\",\"source\" : \"F163\",\"length\" : 0,\"weight\" : 0,\"target\" : \"F142\",\"color\" : \"\",\"invisible\" : false},\"F189\" : {\"id\" : \"F189\",\"source\" : \"F163\",\"length\" : 0,\"weight\" : 0,\"target\" : \"F145\",\"color\" : \"\",\"invisible\" : false},\"F190\" : {\"id\" : \"F190\",\"source\" : \"F163\",\"length\" : 0,\"weight\" : 0,\"target\" : \"F163\",\"color\" : \"\",\"invisible\" : false},\"F191\" : {\"id\" : \"F191\",\"source\" : \"F166\",\"length\" : 0,\"weight\" : 0,\"target\" : \"F142\",\"color\" : \"\",\"invisible\" : false},\"F192\" : {\"id\" : \"F192\",\"source\" : \"F166\",\"length\" : 0,\"weight\" : 0,\"target\" : \"F145\",\"color\" : \"\",\"invisible\" : false},\"F193\" : {\"id\" : \"F193\",\"source\" : \"F166\",\"length\" : 0,\"weight\" : 0,\"target\" : \"F154\",\"color\" : \"\",\"invisible\" : false},\"F194\" : {\"id\" : \"F194\",\"source\" : \"F166\",\"length\" : 0,\"weight\" : 0,\"target\" : \"F157\",\"color\" : \"\",\"invisible\" : false},\"F195\" : {\"id\" : \"F195\",\"source\" : \"F166\",\"length\" : 0,\"weight\" : 0,\"target\" : \"F166\",\"color\" : \"\",\"invisible\" : false},\"F196\" : {\"id\" : \"F196\",\"source\" : \"F169\",\"length\" : 0,\"weight\" : 0,\"target\" : \"F142\",\"color\" : \"\",\"invisible\" : false},\"F197\" : {\"id\" : \"F197\",\"source\" : \"F169\",\"length\" : 0,\"weight\" : 0,\"target\" : \"F145\",\"color\" : \"\",\"invisible\" : false},\"F198\" : {\"id\" : \"F198\",\"source\" : \"F169\",\"length\" : 0,\"weight\" : 0,\"target\" : \"F148\",\"color\" : \"\",\"invisible\" : false},\"F199\" : {\"id\" : \"F199\",\"source\" : \"F169\",\"length\" : 0,\"weight\" : 0,\"target\" : \"F151\",\"color\" : \"\",\"invisible\" : false},\"F200\" : {\"id\" : \"F200\",\"source\" : \"F169\",\"length\" : 0,\"weight\" : 0,\"target\" : \"F154\",\"color\" : \"\",\"invisible\" : false},\"F201\" : {\"id\" : \"F201\",\"source\" : \"F169\",\"length\" : 0,\"weight\" : 0,\"target\" : \"F157\",\"color\" : \"\",\"invisible\" : false},\"F202\" : {\"id\" : \"F202\",\"source\" : \"F169\",\"length\" : 0,\"weight\" : 0,\"target\" : \"F160\",\"color\" : \"\",\"invisible\" : false},\"F203\" : {\"id\" : \"F203\",\"source\" : \"F169\",\"length\" : 0,\"weight\" : 0,\"target\" : \"F163\",\"color\" : \"\",\"invisible\" : false},\"F204\" : {\"id\" : \"F204\",\"source\" : \"F169\",\"length\" : 0,\"weight\" : 0,\"target\" : \"F166\",\"color\" : \"\",\"invisible\" : false},\"F205\" : {\"id\" : \"F205\",\"source\" : \"F169\",\"length\" : 0,\"weight\" : 0,\"target\" : \"F169\",\"color\" : \"\",\"invisible\" : false}}},\"messages\" : {}}}"
     },
     "execution_count": 22,
     "metadata": {
      "application/vnd.francy+json": {}
     },
     "output_type": "execute_result"
    }
   ],
   "source": [
    "G := DihedralGroup(8);; #SymmetricGroup(5);; #FreeGroup( \"a\", \"b\" );;\n",
    "as := AllSubgroups(G);;\n",
    "d := Digraph(as, {H, K} -> IsSubgroup(H, K));;\n",
    "\n",
    "vertices := DigraphVertices(d);;\n",
    "edges := DigraphEdges(d);;\n",
    "\n",
    "graph := Graph(GraphType.DIRECTED);;\n",
    "#SetDrag(graph, true);;\n",
    "nodes := [];;\n",
    "\n",
    "simpleGroupMessage := FrancyMessage(FrancyMessageType.INFO, \"Simple Groups\", \"A group is simple if it is nontrivial and has no nontrivial normal subgroups.\");;\n",
    "\n",
    "IsGroupSimple := function(i)\n",
    "    Add(canvas, simpleGroupMessage);;\n",
    "    if IsSimpleGroup(as[i]) then\n",
    "        Add(canvas, FrancyMessage(\"Simple\", Concatenation(\"The vertex \", String(i), \", representing the subgroup \", String(as[i]), \", is simple.\")));;\n",
    "    else\n",
    "        Add(canvas, FrancyMessage(\"Not Simple\", Concatenation(\"The vertex \", String(i), \", representing the subgroup \", String(as[i]), \", is not simple.\")));;\n",
    "    fi;;\n",
    "    return Draw(canvas);\n",
    "end;;\n",
    "    \n",
    "for i in vertices do;\n",
    "    nodes[i] := Shape(ShapeType.CIRCLE, String(i));;\n",
    "#SetColor(nodes[i], \"#0c9460\");;\n",
    "    Add(nodes[i], Menu(\"Is this subgroup simple?\", Callback(IsGroupSimple, [i])));;\n",
    "    Add(graph, nodes[i]);;\n",
    "od;;\n",
    "\n",
    "for i in edges do\n",
    "    Add(graph, Link(nodes[i[1]], nodes[i[2]]));;\n",
    "od;;\n",
    "\n",
    "canvas := Canvas(Concatenation(\"Subgroups Digraph of \", String(G)));;\n",
    "Add(canvas, graph);;\n",
    "Draw(canvas);"
   ]
  },
  {
   "cell_type": "code",
   "execution_count": null,
   "metadata": {},
   "outputs": [],
   "source": []
  }
 ],
 "metadata": {
  "celltoolbar": "Raw Cell Format",
  "kernelspec": {
   "display_name": "GAP 4",
   "language": "gap",
   "name": "gap-4"
  },
  "language_info": {
   "codemirror_mode": "gap",
   "file_extension": ".g",
   "mimetype": "text/x-gap",
   "name": "GAP 4",
   "nbconvert_exporter": "",
   "pygments_lexer": "gap",
   "version": "4.dev"
  }
 },
 "nbformat": 4,
 "nbformat_minor": 2
}
