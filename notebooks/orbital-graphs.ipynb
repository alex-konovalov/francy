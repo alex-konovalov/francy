{
 "cells": [
  {
   "cell_type": "markdown",
   "metadata": {},
   "source": [
    "# Demo for the OrbitalGraphs GAP package\n",
    "\n",
    "This attempts to draw orbital graphs for groups $G \\leq S_n$"
   ]
  },
  {
   "cell_type": "code",
   "execution_count": 2,
   "metadata": {},
   "outputs": [
    {
     "data": {
      "text/plain": [
       "true"
      ]
     },
     "execution_count": 1,
     "metadata": {
      "text/plain": ""
     },
     "output_type": "execute_result"
    },
    {
     "data": {
      "text/plain": [
       "true"
      ]
     },
     "execution_count": 2,
     "metadata": {
      "text/plain": ""
     },
     "output_type": "execute_result"
    }
   ],
   "source": [
    "LoadPackage(\"OrbitalGraphs\");\n",
    "LoadPackage(\"Francy\");"
   ]
  },
  {
   "cell_type": "code",
   "execution_count": 3,
   "metadata": {},
   "outputs": [
    {
     "data": {
      "text/plain": [
       "function( OG ) ... end"
      ]
     },
     "execution_count": 3,
     "metadata": {
      "text/plain": ""
     },
     "output_type": "execute_result"
    }
   ],
   "source": [
    "# Input: an orbital graph\n",
    "# Draws orbital graphs\n",
    "\n",
    "DrawOrbitalGraph := function(OG)\n",
    "    local canvas, fgraph, i, e, nodes;\n",
    "    \n",
    "    # todo: make it possible to put a caption here\n",
    "    canvas := Canvas(Concatenation(\"Orbital Graph of\", \"\"));\n",
    "    fgraph := Graph(GraphType.DIRECTED);\n",
    "    Add(canvas, fgraph);\n",
    "\n",
    "    nodes := [];\n",
    "\n",
    "    for i in DigraphVertices(OG) do\n",
    "        nodes[i] := Shape(ShapeType.CIRCLE, String(i));;\n",
    "        Add(fgraph, nodes[i]);\n",
    "    od;\n",
    "    for i in [1..Length(nodes)-1] do\n",
    "        e := Link(nodes[i], nodes[i+1]);\n",
    "        SetInvisible(e, true);\n",
    "        Add(fgraph, e);\n",
    "    od;\n",
    "    e := Link(nodes[Length(nodes)], nodes[1]);\n",
    "    SetInvisible(e, true);\n",
    "    Add(fgraph, e);\n",
    "\n",
    "    for e in DigraphEdges(OG) do\n",
    "        Add(fgraph, Link(nodes[e[1]], nodes[e[2]]));\n",
    "    od;\n",
    "\n",
    "    return Draw(canvas);\n",
    "end;"
   ]
  },
  {
   "cell_type": "code",
   "execution_count": 5,
   "metadata": {},
   "outputs": [
    {
     "data": {
      "text/plain": [
       "Group([ (1,2,3,4,5,6,7,8), (2,8)(3,7)(4,6) ])"
      ]
     },
     "execution_count": 4,
     "metadata": {
      "text/plain": ""
     },
     "output_type": "execute_result"
    },
    {
     "data": {
      "text/plain": [
       "[ <digraph with 8 vertices, 8 edges>, <digraph with 8 vertices, 16 edges>, <digraph with 8 vertices, 16 edges>, <digraph with 8 vertices, 16 edges> ]"
      ]
     },
     "execution_count": 5,
     "metadata": {
      "text/plain": ""
     },
     "output_type": "execute_result"
    }
   ],
   "source": [
    "G := DihedralGroup(IsPermGroup, 16);\n",
    "ogs := OrbitalGraphs(G);"
   ]
  },
  {
   "cell_type": "code",
   "execution_count": 6,
   "metadata": {},
   "outputs": [
    {
     "data": {
      "application/vnd.francy+json": "{\"version\" : \"1.1.2\",\"mime\" : \"application\\/vnd.francy+json\",\"canvas\" : {\"width\" : 800,\"id\" : \"F1\",\"height\" : 600,\"title\" : \"Orbital Graph of\",\"graph\" : {\"type\" : \"directed\",\"id\" : \"F2\",\"simulation\" : true,\"collapsed\" : true,\"nodes\" : {\"F3\" : {\"x\" : 0,\"y\" : 0,\"type\" : \"circle\",\"id\" : \"F3\",\"size\" : 10,\"title\" : \"1\",\"layer\" : 0,\"color\" : \"\",\"parent\" : \"\",\"menus\" : {},\"messages\" : {},\"callbacks\" : {}},\"F4\" : {\"x\" : 0,\"y\" : 0,\"type\" : \"circle\",\"id\" : \"F4\",\"size\" : 10,\"title\" : \"2\",\"layer\" : 0,\"color\" : \"\",\"parent\" : \"\",\"menus\" : {},\"messages\" : {},\"callbacks\" : {}},\"F5\" : {\"x\" : 0,\"y\" : 0,\"type\" : \"circle\",\"id\" : \"F5\",\"size\" : 10,\"title\" : \"3\",\"layer\" : 0,\"color\" : \"\",\"parent\" : \"\",\"menus\" : {},\"messages\" : {},\"callbacks\" : {}},\"F6\" : {\"x\" : 0,\"y\" : 0,\"type\" : \"circle\",\"id\" : \"F6\",\"size\" : 10,\"title\" : \"4\",\"layer\" : 0,\"color\" : \"\",\"parent\" : \"\",\"menus\" : {},\"messages\" : {},\"callbacks\" : {}},\"F7\" : {\"x\" : 0,\"y\" : 0,\"type\" : \"circle\",\"id\" : \"F7\",\"size\" : 10,\"title\" : \"5\",\"layer\" : 0,\"color\" : \"\",\"parent\" : \"\",\"menus\" : {},\"messages\" : {},\"callbacks\" : {}},\"F8\" : {\"x\" : 0,\"y\" : 0,\"type\" : \"circle\",\"id\" : \"F8\",\"size\" : 10,\"title\" : \"6\",\"layer\" : 0,\"color\" : \"\",\"parent\" : \"\",\"menus\" : {},\"messages\" : {},\"callbacks\" : {}},\"F9\" : {\"x\" : 0,\"y\" : 0,\"type\" : \"circle\",\"id\" : \"F9\",\"size\" : 10,\"title\" : \"7\",\"layer\" : 0,\"color\" : \"\",\"parent\" : \"\",\"menus\" : {},\"messages\" : {},\"callbacks\" : {}},\"F10\" : {\"x\" : 0,\"y\" : 0,\"type\" : \"circle\",\"id\" : \"F10\",\"size\" : 10,\"title\" : \"8\",\"layer\" : 0,\"color\" : \"\",\"parent\" : \"\",\"menus\" : {},\"messages\" : {},\"callbacks\" : {}}},\"links\" : {\"F11\" : {\"id\" : \"F11\",\"source\" : \"F3\",\"length\" : 0,\"weight\" : 0,\"target\" : \"F4\",\"color\" : \"\",\"invisible\" : true},\"F12\" : {\"id\" : \"F12\",\"source\" : \"F4\",\"length\" : 0,\"weight\" : 0,\"target\" : \"F5\",\"color\" : \"\",\"invisible\" : true},\"F13\" : {\"id\" : \"F13\",\"source\" : \"F5\",\"length\" : 0,\"weight\" : 0,\"target\" : \"F6\",\"color\" : \"\",\"invisible\" : true},\"F14\" : {\"id\" : \"F14\",\"source\" : \"F6\",\"length\" : 0,\"weight\" : 0,\"target\" : \"F7\",\"color\" : \"\",\"invisible\" : true},\"F15\" : {\"id\" : \"F15\",\"source\" : \"F7\",\"length\" : 0,\"weight\" : 0,\"target\" : \"F8\",\"color\" : \"\",\"invisible\" : true},\"F16\" : {\"id\" : \"F16\",\"source\" : \"F8\",\"length\" : 0,\"weight\" : 0,\"target\" : \"F9\",\"color\" : \"\",\"invisible\" : true},\"F17\" : {\"id\" : \"F17\",\"source\" : \"F9\",\"length\" : 0,\"weight\" : 0,\"target\" : \"F10\",\"color\" : \"\",\"invisible\" : true},\"F18\" : {\"id\" : \"F18\",\"source\" : \"F10\",\"length\" : 0,\"weight\" : 0,\"target\" : \"F3\",\"color\" : \"\",\"invisible\" : true},\"F19\" : {\"id\" : \"F19\",\"source\" : \"F3\",\"length\" : 0,\"weight\" : 0,\"target\" : \"F7\",\"color\" : \"\",\"invisible\" : false},\"F20\" : {\"id\" : \"F20\",\"source\" : \"F4\",\"length\" : 0,\"weight\" : 0,\"target\" : \"F8\",\"color\" : \"\",\"invisible\" : false},\"F21\" : {\"id\" : \"F21\",\"source\" : \"F5\",\"length\" : 0,\"weight\" : 0,\"target\" : \"F9\",\"color\" : \"\",\"invisible\" : false},\"F22\" : {\"id\" : \"F22\",\"source\" : \"F6\",\"length\" : 0,\"weight\" : 0,\"target\" : \"F10\",\"color\" : \"\",\"invisible\" : false},\"F23\" : {\"id\" : \"F23\",\"source\" : \"F7\",\"length\" : 0,\"weight\" : 0,\"target\" : \"F3\",\"color\" : \"\",\"invisible\" : false},\"F24\" : {\"id\" : \"F24\",\"source\" : \"F8\",\"length\" : 0,\"weight\" : 0,\"target\" : \"F4\",\"color\" : \"\",\"invisible\" : false},\"F25\" : {\"id\" : \"F25\",\"source\" : \"F9\",\"length\" : 0,\"weight\" : 0,\"target\" : \"F5\",\"color\" : \"\",\"invisible\" : false},\"F26\" : {\"id\" : \"F26\",\"source\" : \"F10\",\"length\" : 0,\"weight\" : 0,\"target\" : \"F6\",\"color\" : \"\",\"invisible\" : false}}},\"zoomToFit\" : true,\"texTypesetting\" : false,\"menus\" : {},\"messages\" : {}}}"
     },
     "execution_count": 6,
     "metadata": {
      "application/vnd.francy+json": {}
     },
     "output_type": "execute_result"
    }
   ],
   "source": [
    "# This seems to work quite ok\n",
    "DrawOrbitalGraph(ogs[1]);"
   ]
  },
  {
   "cell_type": "code",
   "execution_count": 7,
   "metadata": {},
   "outputs": [
    {
     "data": {
      "application/vnd.francy+json": "{\"version\" : \"1.1.2\",\"mime\" : \"application\\/vnd.francy+json\",\"canvas\" : {\"width\" : 800,\"id\" : \"F27\",\"height\" : 600,\"title\" : \"Orbital Graph of\",\"graph\" : {\"type\" : \"directed\",\"id\" : \"F28\",\"simulation\" : true,\"collapsed\" : true,\"nodes\" : {\"F29\" : {\"x\" : 0,\"y\" : 0,\"type\" : \"circle\",\"id\" : \"F29\",\"size\" : 10,\"title\" : \"1\",\"layer\" : 0,\"color\" : \"\",\"parent\" : \"\",\"menus\" : {},\"messages\" : {},\"callbacks\" : {}},\"F30\" : {\"x\" : 0,\"y\" : 0,\"type\" : \"circle\",\"id\" : \"F30\",\"size\" : 10,\"title\" : \"2\",\"layer\" : 0,\"color\" : \"\",\"parent\" : \"\",\"menus\" : {},\"messages\" : {},\"callbacks\" : {}},\"F31\" : {\"x\" : 0,\"y\" : 0,\"type\" : \"circle\",\"id\" : \"F31\",\"size\" : 10,\"title\" : \"3\",\"layer\" : 0,\"color\" : \"\",\"parent\" : \"\",\"menus\" : {},\"messages\" : {},\"callbacks\" : {}},\"F32\" : {\"x\" : 0,\"y\" : 0,\"type\" : \"circle\",\"id\" : \"F32\",\"size\" : 10,\"title\" : \"4\",\"layer\" : 0,\"color\" : \"\",\"parent\" : \"\",\"menus\" : {},\"messages\" : {},\"callbacks\" : {}},\"F33\" : {\"x\" : 0,\"y\" : 0,\"type\" : \"circle\",\"id\" : \"F33\",\"size\" : 10,\"title\" : \"5\",\"layer\" : 0,\"color\" : \"\",\"parent\" : \"\",\"menus\" : {},\"messages\" : {},\"callbacks\" : {}},\"F34\" : {\"x\" : 0,\"y\" : 0,\"type\" : \"circle\",\"id\" : \"F34\",\"size\" : 10,\"title\" : \"6\",\"layer\" : 0,\"color\" : \"\",\"parent\" : \"\",\"menus\" : {},\"messages\" : {},\"callbacks\" : {}},\"F35\" : {\"x\" : 0,\"y\" : 0,\"type\" : \"circle\",\"id\" : \"F35\",\"size\" : 10,\"title\" : \"7\",\"layer\" : 0,\"color\" : \"\",\"parent\" : \"\",\"menus\" : {},\"messages\" : {},\"callbacks\" : {}},\"F36\" : {\"x\" : 0,\"y\" : 0,\"type\" : \"circle\",\"id\" : \"F36\",\"size\" : 10,\"title\" : \"8\",\"layer\" : 0,\"color\" : \"\",\"parent\" : \"\",\"menus\" : {},\"messages\" : {},\"callbacks\" : {}}},\"links\" : {\"F37\" : {\"id\" : \"F37\",\"source\" : \"F29\",\"length\" : 0,\"weight\" : 0,\"target\" : \"F30\",\"color\" : \"\",\"invisible\" : true},\"F38\" : {\"id\" : \"F38\",\"source\" : \"F30\",\"length\" : 0,\"weight\" : 0,\"target\" : \"F31\",\"color\" : \"\",\"invisible\" : true},\"F39\" : {\"id\" : \"F39\",\"source\" : \"F31\",\"length\" : 0,\"weight\" : 0,\"target\" : \"F32\",\"color\" : \"\",\"invisible\" : true},\"F40\" : {\"id\" : \"F40\",\"source\" : \"F32\",\"length\" : 0,\"weight\" : 0,\"target\" : \"F33\",\"color\" : \"\",\"invisible\" : true},\"F41\" : {\"id\" : \"F41\",\"source\" : \"F33\",\"length\" : 0,\"weight\" : 0,\"target\" : \"F34\",\"color\" : \"\",\"invisible\" : true},\"F42\" : {\"id\" : \"F42\",\"source\" : \"F34\",\"length\" : 0,\"weight\" : 0,\"target\" : \"F35\",\"color\" : \"\",\"invisible\" : true},\"F43\" : {\"id\" : \"F43\",\"source\" : \"F35\",\"length\" : 0,\"weight\" : 0,\"target\" : \"F36\",\"color\" : \"\",\"invisible\" : true},\"F44\" : {\"id\" : \"F44\",\"source\" : \"F36\",\"length\" : 0,\"weight\" : 0,\"target\" : \"F29\",\"color\" : \"\",\"invisible\" : true},\"F45\" : {\"id\" : \"F45\",\"source\" : \"F29\",\"length\" : 0,\"weight\" : 0,\"target\" : \"F30\",\"color\" : \"\",\"invisible\" : false},\"F46\" : {\"id\" : \"F46\",\"source\" : \"F29\",\"length\" : 0,\"weight\" : 0,\"target\" : \"F36\",\"color\" : \"\",\"invisible\" : false},\"F47\" : {\"id\" : \"F47\",\"source\" : \"F30\",\"length\" : 0,\"weight\" : 0,\"target\" : \"F31\",\"color\" : \"\",\"invisible\" : false},\"F48\" : {\"id\" : \"F48\",\"source\" : \"F30\",\"length\" : 0,\"weight\" : 0,\"target\" : \"F29\",\"color\" : \"\",\"invisible\" : false},\"F49\" : {\"id\" : \"F49\",\"source\" : \"F31\",\"length\" : 0,\"weight\" : 0,\"target\" : \"F32\",\"color\" : \"\",\"invisible\" : false},\"F50\" : {\"id\" : \"F50\",\"source\" : \"F31\",\"length\" : 0,\"weight\" : 0,\"target\" : \"F30\",\"color\" : \"\",\"invisible\" : false},\"F51\" : {\"id\" : \"F51\",\"source\" : \"F32\",\"length\" : 0,\"weight\" : 0,\"target\" : \"F33\",\"color\" : \"\",\"invisible\" : false},\"F52\" : {\"id\" : \"F52\",\"source\" : \"F32\",\"length\" : 0,\"weight\" : 0,\"target\" : \"F31\",\"color\" : \"\",\"invisible\" : false},\"F53\" : {\"id\" : \"F53\",\"source\" : \"F33\",\"length\" : 0,\"weight\" : 0,\"target\" : \"F34\",\"color\" : \"\",\"invisible\" : false},\"F54\" : {\"id\" : \"F54\",\"source\" : \"F33\",\"length\" : 0,\"weight\" : 0,\"target\" : \"F32\",\"color\" : \"\",\"invisible\" : false},\"F55\" : {\"id\" : \"F55\",\"source\" : \"F34\",\"length\" : 0,\"weight\" : 0,\"target\" : \"F33\",\"color\" : \"\",\"invisible\" : false},\"F56\" : {\"id\" : \"F56\",\"source\" : \"F34\",\"length\" : 0,\"weight\" : 0,\"target\" : \"F35\",\"color\" : \"\",\"invisible\" : false},\"F57\" : {\"id\" : \"F57\",\"source\" : \"F35\",\"length\" : 0,\"weight\" : 0,\"target\" : \"F34\",\"color\" : \"\",\"invisible\" : false},\"F58\" : {\"id\" : \"F58\",\"source\" : \"F35\",\"length\" : 0,\"weight\" : 0,\"target\" : \"F36\",\"color\" : \"\",\"invisible\" : false},\"F59\" : {\"id\" : \"F59\",\"source\" : \"F36\",\"length\" : 0,\"weight\" : 0,\"target\" : \"F35\",\"color\" : \"\",\"invisible\" : false},\"F60\" : {\"id\" : \"F60\",\"source\" : \"F36\",\"length\" : 0,\"weight\" : 0,\"target\" : \"F29\",\"color\" : \"\",\"invisible\" : false}}},\"zoomToFit\" : true,\"texTypesetting\" : false,\"menus\" : {},\"messages\" : {}}}"
     },
     "execution_count": 7,
     "metadata": {
      "application/vnd.francy+json": {}
     },
     "output_type": "execute_result"
    }
   ],
   "source": [
    "# This, not so much\n",
    "DrawOrbitalGraph(ogs[2]);"
   ]
  },
  {
   "cell_type": "code",
   "execution_count": 9,
   "metadata": {},
   "outputs": [
    {
     "data": {
      "text/plain": [
       "Group([ (1,2,3), (1,2), (4,5,6,7,8) ])"
      ]
     },
     "execution_count": 8,
     "metadata": {
      "text/plain": ""
     },
     "output_type": "execute_result"
    },
    {
     "data": {
      "text/plain": [
       "[ <digraph with 8 vertices, 5 edges>, <digraph with 8 vertices, 5 edges>, <digraph with 8 vertices, 5 edges>, <digraph with 8 vertices, 5 edges>, <digraph with 8 vertices, 6 edges>, <digraph with 8 vertices, 15 edges>, <digraph with 8 vertices, 15 edges> ]"
      ]
     },
     "execution_count": 9,
     "metadata": {
      "text/plain": ""
     },
     "output_type": "execute_result"
    }
   ],
   "source": [
    "G := DirectProduct(SymmetricGroup(3), CyclicGroup(IsPermGroup, 5));\n",
    "ogs := OrbitalGraphs(G);"
   ]
  },
  {
   "cell_type": "code",
   "execution_count": 10,
   "metadata": {},
   "outputs": [
    {
     "data": {
      "application/vnd.francy+json": "{\"version\" : \"1.1.2\",\"mime\" : \"application\\/vnd.francy+json\",\"canvas\" : {\"width\" : 800,\"id\" : \"F61\",\"height\" : 600,\"title\" : \"Orbital Graph of\",\"graph\" : {\"type\" : \"directed\",\"id\" : \"F62\",\"simulation\" : true,\"collapsed\" : true,\"nodes\" : {\"F63\" : {\"x\" : 0,\"y\" : 0,\"type\" : \"circle\",\"id\" : \"F63\",\"size\" : 10,\"title\" : \"1\",\"layer\" : 0,\"color\" : \"\",\"parent\" : \"\",\"menus\" : {},\"messages\" : {},\"callbacks\" : {}},\"F64\" : {\"x\" : 0,\"y\" : 0,\"type\" : \"circle\",\"id\" : \"F64\",\"size\" : 10,\"title\" : \"2\",\"layer\" : 0,\"color\" : \"\",\"parent\" : \"\",\"menus\" : {},\"messages\" : {},\"callbacks\" : {}},\"F65\" : {\"x\" : 0,\"y\" : 0,\"type\" : \"circle\",\"id\" : \"F65\",\"size\" : 10,\"title\" : \"3\",\"layer\" : 0,\"color\" : \"\",\"parent\" : \"\",\"menus\" : {},\"messages\" : {},\"callbacks\" : {}},\"F66\" : {\"x\" : 0,\"y\" : 0,\"type\" : \"circle\",\"id\" : \"F66\",\"size\" : 10,\"title\" : \"4\",\"layer\" : 0,\"color\" : \"\",\"parent\" : \"\",\"menus\" : {},\"messages\" : {},\"callbacks\" : {}},\"F67\" : {\"x\" : 0,\"y\" : 0,\"type\" : \"circle\",\"id\" : \"F67\",\"size\" : 10,\"title\" : \"5\",\"layer\" : 0,\"color\" : \"\",\"parent\" : \"\",\"menus\" : {},\"messages\" : {},\"callbacks\" : {}},\"F68\" : {\"x\" : 0,\"y\" : 0,\"type\" : \"circle\",\"id\" : \"F68\",\"size\" : 10,\"title\" : \"6\",\"layer\" : 0,\"color\" : \"\",\"parent\" : \"\",\"menus\" : {},\"messages\" : {},\"callbacks\" : {}},\"F69\" : {\"x\" : 0,\"y\" : 0,\"type\" : \"circle\",\"id\" : \"F69\",\"size\" : 10,\"title\" : \"7\",\"layer\" : 0,\"color\" : \"\",\"parent\" : \"\",\"menus\" : {},\"messages\" : {},\"callbacks\" : {}},\"F70\" : {\"x\" : 0,\"y\" : 0,\"type\" : \"circle\",\"id\" : \"F70\",\"size\" : 10,\"title\" : \"8\",\"layer\" : 0,\"color\" : \"\",\"parent\" : \"\",\"menus\" : {},\"messages\" : {},\"callbacks\" : {}}},\"links\" : {\"F71\" : {\"id\" : \"F71\",\"source\" : \"F63\",\"length\" : 0,\"weight\" : 0,\"target\" : \"F64\",\"color\" : \"\",\"invisible\" : true},\"F72\" : {\"id\" : \"F72\",\"source\" : \"F64\",\"length\" : 0,\"weight\" : 0,\"target\" : \"F65\",\"color\" : \"\",\"invisible\" : true},\"F73\" : {\"id\" : \"F73\",\"source\" : \"F65\",\"length\" : 0,\"weight\" : 0,\"target\" : \"F66\",\"color\" : \"\",\"invisible\" : true},\"F74\" : {\"id\" : \"F74\",\"source\" : \"F66\",\"length\" : 0,\"weight\" : 0,\"target\" : \"F67\",\"color\" : \"\",\"invisible\" : true},\"F75\" : {\"id\" : \"F75\",\"source\" : \"F67\",\"length\" : 0,\"weight\" : 0,\"target\" : \"F68\",\"color\" : \"\",\"invisible\" : true},\"F76\" : {\"id\" : \"F76\",\"source\" : \"F68\",\"length\" : 0,\"weight\" : 0,\"target\" : \"F69\",\"color\" : \"\",\"invisible\" : true},\"F77\" : {\"id\" : \"F77\",\"source\" : \"F69\",\"length\" : 0,\"weight\" : 0,\"target\" : \"F70\",\"color\" : \"\",\"invisible\" : true},\"F78\" : {\"id\" : \"F78\",\"source\" : \"F70\",\"length\" : 0,\"weight\" : 0,\"target\" : \"F63\",\"color\" : \"\",\"invisible\" : true},\"F79\" : {\"id\" : \"F79\",\"source\" : \"F66\",\"length\" : 0,\"weight\" : 0,\"target\" : \"F68\",\"color\" : \"\",\"invisible\" : false},\"F80\" : {\"id\" : \"F80\",\"source\" : \"F67\",\"length\" : 0,\"weight\" : 0,\"target\" : \"F69\",\"color\" : \"\",\"invisible\" : false},\"F81\" : {\"id\" : \"F81\",\"source\" : \"F68\",\"length\" : 0,\"weight\" : 0,\"target\" : \"F70\",\"color\" : \"\",\"invisible\" : false},\"F82\" : {\"id\" : \"F82\",\"source\" : \"F69\",\"length\" : 0,\"weight\" : 0,\"target\" : \"F66\",\"color\" : \"\",\"invisible\" : false},\"F83\" : {\"id\" : \"F83\",\"source\" : \"F70\",\"length\" : 0,\"weight\" : 0,\"target\" : \"F67\",\"color\" : \"\",\"invisible\" : false}}},\"zoomToFit\" : true,\"texTypesetting\" : false,\"menus\" : {},\"messages\" : {}}}"
     },
     "execution_count": 10,
     "metadata": {
      "application/vnd.francy+json": {}
     },
     "output_type": "execute_result"
    }
   ],
   "source": [
    "DrawOrbitalGraph(ogs[2]);"
   ]
  },
  {
   "cell_type": "code",
   "execution_count": 10,
   "metadata": {},
   "outputs": [
    {
     "name": "stderr",
     "output_type": "stream",
     "text": [
      "Error, operations: IN of character and boolean or fail is not defined in\n",
      "  '/' in path at /home/ec2-user/environment/gap/pkg/io-4.6.0/gap/io.gi:945 called from \n",
      "IO_FindExecutable( path ) at /home/ec2-user/environment/gap/pkg/io-4.6.0/gap/io.gi:1047 called from\n",
      "IO_Popen( IO_FindExecutable( \"dot\" ), [ \"-Tsvg\", fn ], \"r\" ) at /home/ec2-user/environment/gap/pkg/JupyterKernel-1.3/gap/JupyterUtil.gi:16 called from\n",
      "<function \"JupyterSplashDot\">( <arguments> )\n",
      " called from read-eval loop at stream:2\n",
      "Error, operations: IN of character and boolean or fail is not defined in\n",
      "  '/' in path at /home/ec2-user/environment/gap/pkg/io-4.6.0/gap/io.gi:945 called from \n",
      "IO_FindExecutable( path ) at /home/ec2-user/environment/gap/pkg/io-4.6.0/gap/io.gi:1047 called from\n",
      "IO_Popen( IO_FindExecutable( \"dot\" ), [ \"-Tsvg\", fn ], \"r\" ) at /home/ec2-user/environment/gap/pkg/JupyterKernel-1.3/gap/JupyterUtil.gi:16 called from\n",
      "<function \"JupyterSplashDot\">( <arguments> )\n",
      " called from read-eval loop at stream:3\n",
      "Error, operations: IN of character and boolean or fail is not defined in\n",
      "  '/' in path at /home/ec2-user/environment/gap/pkg/io-4.6.0/gap/io.gi:945 called from \n",
      "IO_FindExecutable( path ) at /home/ec2-user/environment/gap/pkg/io-4.6.0/gap/io.gi:1047 called from\n",
      "IO_Popen( IO_FindExecutable( \"dot\" ), [ \"-Tsvg\", fn ], \"r\" ) at /home/ec2-user/environment/gap/pkg/JupyterKernel-1.3/gap/JupyterUtil.gi:16 called from\n",
      "<function \"JupyterSplashDot\">( <arguments> )\n",
      " called from read-eval loop at stream:4\n"
     ]
    }
   ],
   "source": [
    "# Maybe slightly more useful?\n",
    "JupyterSplashDot(DotDigraph(ogs[2]));\n",
    "JupyterSplashDot(DotDigraph(ogs[5]));\n",
    "JupyterSplashDot(DotDigraph(ogs[7]));\n",
    "\n"
   ]
  },
  {
   "cell_type": "code",
   "execution_count": null,
   "metadata": {},
   "outputs": [],
   "source": []
  }
 ],
 "metadata": {
  "kernelspec": {
   "display_name": "GAP 4",
   "language": "gap",
   "name": "gap-4"
  },
  "language_info": {
   "codemirror_mode": "gap",
   "file_extension": ".g",
   "mimetype": "text/x-gap",
   "name": "GAP 4",
   "nbconvert_exporter": "",
   "pygments_lexer": "gap",
   "version": "4.dev"
  }
 },
 "nbformat": 4,
 "nbformat_minor": 2
}
