{
 "cells": [
  {
   "cell_type": "markdown",
   "metadata": {},
   "source": [
    " "
   ]
  },
  {
   "cell_type": "markdown",
   "metadata": {},
   "source": [
    "<hr/>\n",
    "<div style=\"display: block; margin: 50px 0 50px 0; margin-left: 5%\">\n",
    "<h1 style=\"text-align: left;\">Francy - An Interactive Discrete Mathematics Framework for GAP</h1>\n",
    "</div>"
   ]
  },
  {
   "cell_type": "markdown",
   "metadata": {},
   "source": [
    "<hr/>\n",
    "<div style=\"display: block; margin: 50px 0 50px 0\">\n",
    "    <div style=\"text-align: left; float: left;\">\n",
    "        <h2>Manuel Martins</h2>\n",
    "        <h3>Universidade Aberta, Lisbon - Portugal</h3>\n",
    "        <h4>manuelmachadomartins@gmail.com</h4>\n",
    "    </div>\n",
    "    <div style=\"text-align: left; float: right;\">\n",
    "        <h2>Markus Pfeiffer</h2>\n",
    "        <h3>University of St Andrews, St Andrews - Scotland</h3>\n",
    "        <h4>markus.pfeiffer@morphism.de</h4>\n",
    "    </div>\n",
    "</div>"
   ]
  },
  {
   "cell_type": "markdown",
   "metadata": {},
   "source": [
    "<hr/>\n",
    "<div style=\"display: block; margin: 50px 0 50px 0\">\n",
    "<h1 style=\"text-align: center\">Agenda</h1>\n",
    "\n",
    "<h3>\n",
    "    <ol type=\"1\">\n",
    "    <li>Motivation</li>\n",
    "    <li>Solution</li>\n",
    "    <li>Features</li>\n",
    "    <li>Hands-on</li>\n",
    "    <li>Future</li>\n",
    "    </ol>\n",
    "</h3>\n",
    "</div>"
   ]
  },
  {
   "cell_type": "markdown",
   "metadata": {},
   "source": [
    "<hr/>\n",
    "<div style=\"display: block; margin: 50px 0 50px 0\">\n",
    "<h1 style=\"text-align: center\">1. Motivation</h1>\n",
    "\n",
    "<h3><ul><li>Francy arose from the necessity of having a lightweight framework for building interactive graphics, generated from GAP, running primarily on the web, primarily in a Jupyter Notebook.</li></ul></h3>\n",
    "\n",
    "<h2 style=\"text-align: left; margin-left: 10%\">1.1 What is Francy?</h2>\n",
    "\n",
    "<h3>\n",
    "<ul>\n",
    "    <li>an interface to draw graphics using objects;</li>\n",
    "    <li>based on simple concepts of drawing and graph theory;</li>\n",
    "    <li>2 components:</li>\n",
    "    <ol type=\"1\">\n",
    "        <li>a GAP package that is responsible for the semantic representation of graphics;</li>\n",
    "        <li>a GUI library that is responsible for generating the actual interactive graphical representation.</li>\n",
    "    </ol>\n",
    "</ul>\n",
    "</h3>\n",
    "</div>"
   ]
  },
  {
   "cell_type": "markdown",
   "metadata": {},
   "source": [
    "<hr/>\n",
    "<div style=\"display: block; margin: 50px 0 50px 0\">\n",
    "<h1 style=\"text-align: center\">2. Solution</h1>\n",
    "\n",
    "<h2 style=\"text-align: left; margin-left: 10%\">2.1 GAP Package</h2>\n",
    "\n",
    "<h3>\n",
    "<ul>\n",
    "    <li>provides a semantic representation of graphics is provided by a thin layer.</li>\n",
    "    <li>uses JSON, a lightweight, text-based, language-independent data interchange format.</li>\n",
    "    <li>follows a JSON Schema, and is identified with the application/vnd.francy+json MIME type.</li>\n",
    "</ul>\n",
    "</h3>\n",
    "\n",
    "<h2 style=\"text-align: left; margin-left: 10%\">2.2 GUI Library - Javascript</h2>\n",
    "\n",
    "<h3>\n",
    "<ul>\n",
    "    <li>based on d3.js, for rendering the semantic representation produced by the GAP package;</li>\n",
    "    <li>this library is distributed both as a browser module and as a Jupyter extension.</li>\n",
    "</ul>\n",
    "</h3>\n",
    "\n",
    "<h2 style=\"text-align: left; margin-left: 10%\">2.3 Jupyter GAP Kernel</h2>\n",
    "\n",
    "<h3>\n",
    "<ul>\n",
    "    <li>pure GAP package that implements the Jupyter Kernel specification;</li>\n",
    "    <li>\"glues\" everything together.</li>\n",
    "</ul>\n",
    "</h3>\n",
    "\n",
    "<h3>\n",
    "The Jupyter extension can be used in Jupyter Notebooks or Jupyter Lab, using the Jupyter GAP Kernel and the MIME type application/vnd.francy+json to render the document.\n",
    "</h3>\n",
    "<h3>\n",
    "This creates an abstraction and allows the development of new GUI libraries, \n",
    "using different data rendering dependencies or even different programming languages, independently of the GAP package.\n",
    "</h3>\n",
    "</div>"
   ]
  },
  {
   "cell_type": "markdown",
   "metadata": {},
   "source": [
    "<hr/>\n",
    "<div style=\"display: block; margin: 50px 0 0 0\">\n",
    "<h1 style=\"text-align: center\">3. Features</h1>\n",
    "\n",
    "<h3>\n",
    "<ul>\n",
    "    <li>allows the creation of directed and undirected graphs, trees, line charts, bar charts and scatter charts;</li>\n",
    "    <li>enables interaction with graphical objects by clicking, selecting, dragging and zooming;</li>\n",
    "</ul>\n",
    "</h3>\n",
    "<h2 style=\"text-align: left; margin-left: 10%\">3.1 How to install</h2>\n",
    "</div>\n",
    "\n",
    "### 1. download latest release and extract the GAP package to GAP packages directory\n",
    "\n",
    "```bash\n",
    "user@local:~$ wget https://github.com/mcmartins/francy/archive/v0.8.2.tar.gz && \\\n",
    "    mkdir -p $GAPROOT/pkg/francy && \\\n",
    "    tar xzvf v0.8.2.tar.gz -C $GAPROOT/pkg/francy francy-0.8.2/gap\n",
    "```\n",
    "\n",
    "### 2. install latest jupyter extension using pip and install on Jupyter lab and/or notebook\n",
    "\n",
    "```bash\n",
    "user@local:~$ pip install jupyter_francy\n",
    "user@local:~$ jupyter lab build # for JupyterLab\n",
    "user@local:~$ jupyter nbextension enable --py --sys-prefix jupyter_francy # for Notebook\n",
    "```\n",
    "<div style=\"display: block; margin: 0 0 50px 0\"/>"
   ]
  },
  {
   "cell_type": "markdown",
   "metadata": {},
   "source": [
    "<hr/>\n",
    "<div style=\"display: block; margin: 50px 0 50px 0\">\n",
    "<h1 style=\"text-align: center\">4. Hands-on</h1>\n",
    "</div>"
   ]
  },
  {
   "cell_type": "code",
   "execution_count": 2,
   "metadata": {},
   "outputs": [
    {
     "data": {
      "text/plain": [
       "true"
      ]
     },
     "execution_count": 1,
     "metadata": {
      "text/plain": ""
     },
     "output_type": "execute_result"
    },
    {
     "data": {
      "text/plain": [
       "true"
      ]
     },
     "execution_count": 2,
     "metadata": {
      "text/plain": ""
     },
     "output_type": "execute_result"
    }
   ],
   "source": [
    "LoadPackage(\"francy\");\n",
    "LoadPackage(\"digraph\");"
   ]
  },
  {
   "cell_type": "code",
   "execution_count": 3,
   "metadata": {},
   "outputs": [
    {
     "data": {
      "text/plain": [
       "function( G ) ... end"
      ]
     },
     "execution_count": 3,
     "metadata": {
      "text/plain": ""
     },
     "output_type": "execute_result"
    }
   ],
   "source": [
    "FrancyDigraphs := function(G)\n",
    "    local as, d, v, e, graph, nodes, m, IsGroupSimple, canvas, i;\n",
    "\n",
    "    as := AllSubgroups(G);;\n",
    "\n",
    "    d := Digraph(as, {H, K} -> IsSubgroup(H, K));;\n",
    "    v := DigraphVertices(d);;\n",
    "    e := DigraphEdges(d);;\n",
    "\n",
    "    graph := Graph(GraphType.DIRECTED);;\n",
    "    canvas := Canvas(Concatenation(\"Subgroups Digraph of \", String(G)));;\n",
    "    Add(canvas, graph);;\n",
    "\n",
    "    nodes := [];;\n",
    "\n",
    "    m := FrancyMessage(FrancyMessageType.INFO, \"Simple Groups\", \n",
    "        \"A group is simple if it is nontrivial and has no nontrivial normal subgroups.\");;\n",
    "    \n",
    "    IsGroupSimple := function(i)\n",
    "        Add(canvas, m);;\n",
    "        if IsSimpleGroup(as[i]) then\n",
    "            Add(canvas, FrancyMessage(\"Simple\", Concatenation(\"The vertex \", \n",
    "                String(i), \", representing the subgroup \", String(as[i]), \", is simple.\")));;\n",
    "        else\n",
    "            Add(canvas, FrancyMessage(\"Not Simple\", Concatenation(\"The vertex \", \n",
    "                String(i), \", representing the subgroup \", String(as[i]), \", is not simple.\")));;\n",
    "        fi;;\n",
    "        return Draw(canvas);\n",
    "    end;;\n",
    "\n",
    "    for i in v do;\n",
    "        nodes[i] := Shape(ShapeType.CIRCLE, String(i));;\n",
    "        Add(nodes[i], Menu(\"Simple\", Callback(IsGroupSimple, [i])));;\n",
    "        Add(graph, nodes[i]);;\n",
    "    od;;\n",
    "\n",
    "    for i in e do\n",
    "        Add(graph, Link(nodes[i[1]], nodes[i[2]]));;\n",
    "    od;;\n",
    "\n",
    "    return Draw(canvas);\n",
    "end;"
   ]
  },
  {
   "cell_type": "code",
   "execution_count": 5,
   "metadata": {},
   "outputs": [
    {
     "data": {
      "text/plain": [
       "<group of size 4 with 2 generators>"
      ]
     },
     "execution_count": 4,
     "metadata": {
      "text/plain": ""
     },
     "output_type": "execute_result"
    },
    {
     "data": {
      "application/vnd.francy+json": "{\"version\" : \"1.0.4\",\"mime\" : \"application\\/vnd.francy+json\",\"canvas\" : {\"width\" : 800,\"id\" : \"F2\",\"height\" : 600,\"title\" : \"Subgroups Digraph of Group( [ f1, f2 ] )\",\"zoomToFit\" : true,\"texTypesetting\" : false,\"menus\" : {},\"graph\" : {\"type\" : \"directed\",\"id\" : \"F1\",\"simulation\" : true,\"collapsed\" : true,\"nodes\" : {\"F4\" : {\"x\" : 0,\"y\" : 0,\"type\" : \"circle\",\"id\" : \"F4\",\"size\" : 10,\"title\" : \"1\",\"layer\" : 0,\"color\" : \"\",\"parent\" : \"\",\"menus\" : {\"F6\" : {\"id\" : \"F6\",\"title\" : \"Simple\",\"callback\" : {\"func\" : \"unknown\",\"id\" : \"F5\",\"trigger\" : \"click\",\"knownArgs\" : [\"1\"],\"requiredArgs\" : {}},\"menus\" : {}}},\"messages\" : {},\"callbacks\" : {}},\"F7\" : {\"x\" : 0,\"y\" : 0,\"type\" : \"circle\",\"id\" : \"F7\",\"size\" : 10,\"title\" : \"2\",\"layer\" : 0,\"color\" : \"\",\"parent\" : \"\",\"menus\" : {\"F9\" : {\"id\" : \"F9\",\"title\" : \"Simple\",\"callback\" : {\"func\" : \"unknown\",\"id\" : \"F8\",\"trigger\" : \"click\",\"knownArgs\" : [\"2\"],\"requiredArgs\" : {}},\"menus\" : {}}},\"messages\" : {},\"callbacks\" : {}},\"F10\" : {\"x\" : 0,\"y\" : 0,\"type\" : \"circle\",\"id\" : \"F10\",\"size\" : 10,\"title\" : \"3\",\"layer\" : 0,\"color\" : \"\",\"parent\" : \"\",\"menus\" : {\"F12\" : {\"id\" : \"F12\",\"title\" : \"Simple\",\"callback\" : {\"func\" : \"unknown\",\"id\" : \"F11\",\"trigger\" : \"click\",\"knownArgs\" : [\"3\"],\"requiredArgs\" : {}},\"menus\" : {}}},\"messages\" : {},\"callbacks\" : {}},\"F13\" : {\"x\" : 0,\"y\" : 0,\"type\" : \"circle\",\"id\" : \"F13\",\"size\" : 10,\"title\" : \"4\",\"layer\" : 0,\"color\" : \"\",\"parent\" : \"\",\"menus\" : {\"F15\" : {\"id\" : \"F15\",\"title\" : \"Simple\",\"callback\" : {\"func\" : \"unknown\",\"id\" : \"F14\",\"trigger\" : \"click\",\"knownArgs\" : [\"4\"],\"requiredArgs\" : {}},\"menus\" : {}}},\"messages\" : {},\"callbacks\" : {}},\"F16\" : {\"x\" : 0,\"y\" : 0,\"type\" : \"circle\",\"id\" : \"F16\",\"size\" : 10,\"title\" : \"5\",\"layer\" : 0,\"color\" : \"\",\"parent\" : \"\",\"menus\" : {\"F18\" : {\"id\" : \"F18\",\"title\" : \"Simple\",\"callback\" : {\"func\" : \"unknown\",\"id\" : \"F17\",\"trigger\" : \"click\",\"knownArgs\" : [\"5\"],\"requiredArgs\" : {}},\"menus\" : {}}},\"messages\" : {},\"callbacks\" : {}}},\"links\" : {\"F19\" : {\"id\" : \"F19\",\"source\" : \"F4\",\"length\" : 0,\"weight\" : 0,\"target\" : \"F4\",\"color\" : \"\",\"invisible\" : false},\"F20\" : {\"id\" : \"F20\",\"source\" : \"F7\",\"length\" : 0,\"weight\" : 0,\"target\" : \"F4\",\"color\" : \"\",\"invisible\" : false},\"F21\" : {\"id\" : \"F21\",\"source\" : \"F7\",\"length\" : 0,\"weight\" : 0,\"target\" : \"F7\",\"color\" : \"\",\"invisible\" : false},\"F22\" : {\"id\" : \"F22\",\"source\" : \"F10\",\"length\" : 0,\"weight\" : 0,\"target\" : \"F4\",\"color\" : \"\",\"invisible\" : false},\"F23\" : {\"id\" : \"F23\",\"source\" : \"F10\",\"length\" : 0,\"weight\" : 0,\"target\" : \"F10\",\"color\" : \"\",\"invisible\" : false},\"F24\" : {\"id\" : \"F24\",\"source\" : \"F13\",\"length\" : 0,\"weight\" : 0,\"target\" : \"F4\",\"color\" : \"\",\"invisible\" : false},\"F25\" : {\"id\" : \"F25\",\"source\" : \"F13\",\"length\" : 0,\"weight\" : 0,\"target\" : \"F13\",\"color\" : \"\",\"invisible\" : false},\"F26\" : {\"id\" : \"F26\",\"source\" : \"F16\",\"length\" : 0,\"weight\" : 0,\"target\" : \"F4\",\"color\" : \"\",\"invisible\" : false},\"F27\" : {\"id\" : \"F27\",\"source\" : \"F16\",\"length\" : 0,\"weight\" : 0,\"target\" : \"F7\",\"color\" : \"\",\"invisible\" : false},\"F28\" : {\"id\" : \"F28\",\"source\" : \"F16\",\"length\" : 0,\"weight\" : 0,\"target\" : \"F10\",\"color\" : \"\",\"invisible\" : false},\"F29\" : {\"id\" : \"F29\",\"source\" : \"F16\",\"length\" : 0,\"weight\" : 0,\"target\" : \"F13\",\"color\" : \"\",\"invisible\" : false},\"F30\" : {\"id\" : \"F30\",\"source\" : \"F16\",\"length\" : 0,\"weight\" : 0,\"target\" : \"F16\",\"color\" : \"\",\"invisible\" : false}}},\"messages\" : {}}}"
     },
     "execution_count": 5,
     "metadata": {
      "application/vnd.francy+json": {}
     },
     "output_type": "execute_result"
    }
   ],
   "source": [
    "G := DihedralGroup(4);\n",
    "FrancyDigraphs(G);"
   ]
  },
  {
   "cell_type": "markdown",
   "metadata": {},
   "source": [
    "<h2 style=\"text-align: left; margin-left: 10%\">4.1 More examples</h2>\n",
    "\n",
    "<h3>Try these notebooks:</h3>\n",
    "\n",
    "1. [Francy Features](francy-features.ipynb)\n",
    "2. [Subgroup Lattice](subgroup-lattice.ipynb)\n",
    "3. [Francy Monoids](francy-monoids.ipynb)"
   ]
  },
  {
   "cell_type": "markdown",
   "metadata": {},
   "source": [
    "<hr/>\n",
    "<div style=\"display: block; margin: 50px 0 50px 0\">\n",
    "<h1 style=\"text-align: center\">5. Future</h1>\n",
    "\n",
    "<h3>\n",
    "<ul>\n",
    "    <li>rendering multiple topological graphs on the same canvas.</li>\n",
    "    <li>allow the creation of \"free graphics\" using lines and text.</li>\n",
    "    <li>introduce new concepts like tables for matrices representations.</li>\n",
    "    <li>validate the JSON against its JSON Schema between GAP and GUI.</li>\n",
    "    <li>rendering is done on SVG which might be \"heavy\" when loading huge graphs.</li>\n",
    "<ul>\n",
    "</h3>\n",
    "</div>"
   ]
  },
  {
   "cell_type": "markdown",
   "metadata": {},
   "source": [
    "<hr/>\n",
    "<div style=\"display: block; margin: 50px 0 50px 0\">\n",
    "<h1 style=\"text-align: center\">Questions?</h1>\n",
    "<br/>\n",
    "<h1 style=\"margin-left: 10%\">Thanks!</h1>\n",
    "</div>"
   ]
  },
  {
   "cell_type": "code",
   "execution_count": null,
   "metadata": {},
   "outputs": [],
   "source": []
  }
 ],
 "metadata": {
  "kernelspec": {
   "display_name": "GAP 4",
   "language": "gap",
   "name": "gap-4"
  },
  "language_info": {
   "codemirror_mode": "gap",
   "file_extension": ".g",
   "mimetype": "text/x-gap",
   "name": "GAP 4",
   "nbconvert_exporter": "",
   "pygments_lexer": "gap",
   "version": "4.dev"
  }
 },
 "nbformat": 4,
 "nbformat_minor": 2
}
